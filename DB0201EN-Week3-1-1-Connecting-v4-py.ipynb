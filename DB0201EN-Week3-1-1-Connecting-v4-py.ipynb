{
    "metadata": {
        "kernelspec": {
            "display_name": "Python",
            "language": "python",
            "name": "conda-env-python-py"
        },
        "language_info": {
            "codemirror_mode": {
                "name": "ipython",
                "version": 3
            },
            "file_extension": ".py",
            "mimetype": "text/x-python",
            "name": "python",
            "nbconvert_exporter": "python",
            "pygments_lexer": "ipython3",
            "version": "3.6.13"
        },
        "widgets": {
            "state": {},
            "version": "1.1.2"
        }
    },
    "nbformat_minor": 2,
    "nbformat": 4,
    "cells": [
        {
            "cell_type": "markdown",
            "source": [
                "<center>\n",
                "    <img src=\"https://s3-api.us-geo.objectstorage.softlayer.net/cf-courses-data/CognitiveClass/Logos/organization_logo/organization_logo.png\" width=\"300\" alt=\"cognitiveclass.ai logo\"  />\n",
                "</center>\n",
                "\n",
                "# Connect to Db2 database on Cloud using Python\n",
                "\n",
                "Estimated time needed: **15** minutes\n",
                "\n",
                "## Objectives\n",
                "\n",
                "After completing this lab you will be able to:\n",
                "\n",
                "*   Import the ibm_db Python library\n",
                "*   Enter the database connection credentials\n",
                "*   Create the database connection\n",
                "*   Close the database connection\n"
            ],
            "metadata": {
                "azdata_cell_guid": "d78b91b4-44c0-4177-b9cb-112f10968f01"
            }
        },
        {
            "cell_type": "markdown",
            "source": [
                "**Note:** Please follow the instructions given in the first Lab of this course to Create a database service instance of Db2 on Cloud and retrieve your database Service Credentials.\n",
                "\n",
                "## Import the `ibm_db` Python library\n",
                "\n",
                "The `ibm_db` [API ](https://pypi.python.org/pypi/ibm_db/?utm_medium=Exinfluencer&utm_source=Exinfluencer&utm_content=000026UJ&utm_term=10006555&utm_id=NA-SkillsNetwork-Channel-SkillsNetworkCoursesIBMDeveloperSkillsNetworkDB0201ENSkillsNetwork20127838-2021-01-01) provides a variety of useful Python functions for accessing and manipulating data in an IBM® data server database, including functions for connecting to a database, preparing and issuing SQL statements, fetching rows from result sets, calling stored procedures, committing and rolling back transactions, handling errors, and retrieving metadata.\n",
                "\n",
                "We first import the ibm_db library into our Python Application\n",
                "\n",
                "Execute the following cell by clicking within it and then\n",
                "press `Shift` and `Enter` keys simultaneously\n"
            ],
            "metadata": {
                "azdata_cell_guid": "1091dddb-d02f-425d-8bfa-6fa6a802404e"
            }
        },
        {
            "cell_type": "code",
            "source": [
                "import ibm_db"
            ],
            "metadata": {
                "azdata_cell_guid": "ee9d1b05-e356-4704-8d60-8623b6c283f0"
            },
            "outputs": [],
            "execution_count": 1
        },
        {
            "cell_type": "markdown",
            "source": [
                "When the command above completes, the `ibm_db` library is loaded in your notebook.\n",
                "\n",
                "## Identify the database connection credentials\n",
                "\n",
                "Connecting to dashDB or DB2 database requires the following information:\n",
                "\n",
                "*   Driver Name\n",
                "*   Database name\n",
                "*   Host DNS name or IP address\n",
                "*   Host port\n",
                "*   Connection protocol\n",
                "*   User ID (or username)\n",
                "*   User Password\n",
                "\n",
                "**Notice:** To obtain credentials please refer to the instructions given in the first Lab of this course\n",
                "\n",
                "Now enter your database credentials below and execute the cell with `Shift` + `Enter`\n"
            ],
            "metadata": {
                "azdata_cell_guid": "932cf4df-adeb-47fe-9a1d-7342a143081f"
            }
        },
        {
            "cell_type": "code",
            "source": [
                "#Replace the placeholder values with your actual Db2 hostname, username, and password:\n",
                "dsn_hostname = \"54a2f15b-5c0f-46df-8954-7e38e612c2bd.c1ogj3sd0tgtu0lqde00.databases.appdomain.cloud\" # e.g.: \"54a2f15b-5c0f-46df-8954-7e38e612c2bd.c1ogj3sd0tgtu0lqde00.databases.appdomain.cloud\"\n",
                "dsn_uid = \"abc12345\"        # e.g. \"abc12345\"\n",
                "dsn_pwd = \"7dBZ3wWt9XN6$o0J\"      # e.g. \"7dBZ3wWt9XN6$o0J\"\n",
                "\n",
                "dsn_driver = \"{IBM DB2 ODBC DRIVER}\"\n",
                "dsn_database = \"bludb\"            # e.g. \"BLUDB\"\n",
                "dsn_port = \"32733\"                # e.g. \"32733\" \n",
                "dsn_protocol = \"TCPIP\"            # i.e. \"TCPIP\"\n",
                "dsn_security = \"SSL\"              #i.e. \"SSL\"\n",
                ""
            ],
            "metadata": {
                "tags": [],
                "azdata_cell_guid": "8eeeded1-97de-450f-998e-a9315101cf38"
            },
            "outputs": [],
            "execution_count": 13
        },
        {
            "cell_type": "markdown",
            "source": [
                "## Create the DB2 database connection\n",
                "\n",
                "Ibm_db API uses the IBM Data Server Driver for ODBC and CLI APIs to connect to IBM DB2 and Informix.\n",
                "\n",
                "Lets build the dsn connection string using the credentials you entered above\n"
            ],
            "metadata": {
                "azdata_cell_guid": "73c974fc-d946-4614-ad7f-0740401fc706"
            }
        },
        {
            "cell_type": "code",
            "source": [
                "#DO NOT MODIFY THIS CELL. Just RUN it with Shift + Enter\n",
                "#Create the dsn connection string\n",
                "dsn = (\n",
                "    \"DRIVER={0};\"\n",
                "    \"DATABASE={1};\"\n",
                "    \"HOSTNAME={2};\"\n",
                "    \"PORT={3};\"\n",
                "    \"PROTOCOL={4};\"\n",
                "    \"UID={5};\"\n",
                "    \"PWD={6};\"\n",
                "    \"SECURITY={7};\").format(dsn_driver, dsn_database, dsn_hostname, dsn_port, dsn_protocol, dsn_uid, dsn_pwd,dsn_security)\n",
                "\n",
                "#print the connection string to check correct values are specified\n",
                "print(dsn)"
            ],
            "metadata": {
                "azdata_cell_guid": "e8f10e6f-b421-4957-b78f-db13c27a8c56"
            },
            "outputs": [
                {
                    "output_type": "stream",
                    "name": "stdout",
                    "text": "DRIVER={IBM DB2 ODBC DRIVER};DATABASE=bludb;HOSTNAME=54a2f15b-5c0f-46df-8954-7e38e612c2bd.c1ogj3sd0tgtu0lqde00.databases.appdomain.cloud;PORT=32733;PROTOCOL=TCPIP;UID=pqs21932;PWD=hXqV4l8ZbQDmgafM;SECURITY=SSL;\n"
                }
            ],
            "execution_count": 14
        },
        {
            "cell_type": "markdown",
            "source": [
                "Now establish the connection to the database\n"
            ],
            "metadata": {
                "azdata_cell_guid": "a240291d-690e-425f-87c0-c08799b89c32"
            }
        },
        {
            "cell_type": "code",
            "source": [
                "#DO NOT MODIFY THIS CELL. Just RUN it with Shift + Enter\n",
                "#Create database connection\n",
                "\n",
                "try:\n",
                "    conn = ibm_db.connect(dsn, \"\", \"\")\n",
                "    print (\"Connected to database: \", dsn_database, \"as user: \", dsn_uid, \"on host: \", dsn_hostname)\n",
                "\n",
                "except:\n",
                "    print (\"Unable to connect: \", ibm_db.conn_errormsg() )\n"
            ],
            "metadata": {
                "azdata_cell_guid": "f27ac023-e1de-4754-ab0f-5dcac19f8e31"
            },
            "outputs": [
                {
                    "output_type": "stream",
                    "name": "stdout",
                    "text": "Connected to database:  bludb as user:  pqs21932 on host:  54a2f15b-5c0f-46df-8954-7e38e612c2bd.c1ogj3sd0tgtu0lqde00.databases.appdomain.cloud\n"
                }
            ],
            "execution_count": 15
        },
        {
            "cell_type": "markdown",
            "source": [
                "Congratulations if you were able to connect successfuly. Otherwise check the error and try again.\n"
            ],
            "metadata": {
                "azdata_cell_guid": "46bced1c-54c0-4714-bde9-549e3528ba0b"
            }
        },
        {
            "cell_type": "code",
            "source": [
                "#Retrieve Metadata for the Database Server\n",
                "server = ibm_db.server_info(conn)\n",
                "\n",
                "print (\"DBMS_NAME: \", server.DBMS_NAME)\n",
                "print (\"DBMS_VER:  \", server.DBMS_VER)\n",
                "print (\"DB_NAME:   \", server.DB_NAME)"
            ],
            "metadata": {
                "azdata_cell_guid": "30380e45-5ef0-4b52-b775-d038a4cf0e2a"
            },
            "outputs": [
                {
                    "output_type": "stream",
                    "name": "stdout",
                    "text": "DBMS_NAME:  DB2/LINUXX8664\nDBMS_VER:   11.05.0500\nDB_NAME:    BLUDB\n"
                }
            ],
            "execution_count": 16
        },
        {
            "cell_type": "code",
            "source": [
                "#Retrieve Metadata for the Database Client / Driver\n",
                "client = ibm_db.client_info(conn)\n",
                "\n",
                "print (\"DRIVER_NAME:          \", client.DRIVER_NAME) \n",
                "print (\"DRIVER_VER:           \", client.DRIVER_VER)\n",
                "print (\"DATA_SOURCE_NAME:     \", client.DATA_SOURCE_NAME)\n",
                "print (\"DRIVER_ODBC_VER:      \", client.DRIVER_ODBC_VER)\n",
                "print (\"ODBC_VER:             \", client.ODBC_VER)\n",
                "print (\"ODBC_SQL_CONFORMANCE: \", client.ODBC_SQL_CONFORMANCE)\n",
                "print (\"APPL_CODEPAGE:        \", client.APPL_CODEPAGE)\n",
                "print (\"CONN_CODEPAGE:        \", client.CONN_CODEPAGE)"
            ],
            "metadata": {
                "azdata_cell_guid": "785edd89-05a5-4b5f-bd1e-beb6b77f406f"
            },
            "outputs": [
                {
                    "output_type": "stream",
                    "name": "stdout",
                    "text": "DRIVER_NAME:           libdb2.a\nDRIVER_VER:            11.05.0500\nDATA_SOURCE_NAME:      BLUDB\nDRIVER_ODBC_VER:       03.51\nODBC_VER:              03.01.0000\nODBC_SQL_CONFORMANCE:  EXTENDED\nAPPL_CODEPAGE:         1208\nCONN_CODEPAGE:         1208\n"
                }
            ],
            "execution_count": 17
        },
        {
            "cell_type": "markdown",
            "source": [
                "## Close the Connection\n",
                "\n",
                "We free all resources by closing the connection. Remember that it is always important to close connections so that we can avoid unused connections taking up resources.\n"
            ],
            "metadata": {
                "azdata_cell_guid": "fe87254a-39c3-4b79-a340-918651a7b118"
            }
        },
        {
            "cell_type": "code",
            "source": [
                "ibm_db.close(conn)"
            ],
            "metadata": {
                "azdata_cell_guid": "c7612a93-9c1d-4818-a4c6-6490e9fdb21d"
            },
            "outputs": [
                {
                    "output_type": "execute_result",
                    "execution_count": 18,
                    "data": {
                        "text/plain": "True"
                    },
                    "metadata": {}
                }
            ],
            "execution_count": 18
        },
        {
            "cell_type": "markdown",
            "source": [
                "## Summary\n",
                "\n",
                "In this tutorial you established a connection to a DB2 database on Cloud database from a Python notebook using ibm_db API.\n"
            ],
            "metadata": {
                "azdata_cell_guid": "ea62591f-ec19-4f25-a8c3-3ffb0e1cf302"
            }
        },
        {
            "cell_type": "markdown",
            "source": [
                "## Author\n",
                "\n",
                "<a href=\"https://www.linkedin.com/in/ravahuja?utm_medium=Exinfluencer&utm_source=Exinfluencer&utm_content=000026UJ&utm_term=10006555&utm_id=NA-SkillsNetwork-Channel-SkillsNetworkCoursesIBMDeveloperSkillsNetworkDB0201ENSkillsNetwork20127838-2021-01-01\">Rav Ahuja</a>\n",
                "\n",
                "## Change Log\n",
                "\n",
                "| Date (YYYY-MM-DD) | Version | Changed By | Change Description                 |\n",
                "| ----------------- | ------- | ---------- | ---------------------------------- |\n",
                "| 2021-07-09        | 2.1     | Malika     | Updated the connection string      |\n",
                "| 2020-08-28        | 2.0     | Lavanya    | Moved lab to course repo in GitLab |\n",
                "\n",
                "<hr>\n",
                "\n",
                "## <h3 align=\"center\"> © IBM Corporation 2020. All rights reserved. <h3/>\n"
            ],
            "metadata": {
                "azdata_cell_guid": "539cf276-8b82-4f8c-a948-a8262f81a902"
            }
        }
    ]
}