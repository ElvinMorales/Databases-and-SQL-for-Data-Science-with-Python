{
    "metadata": {
        "kernelspec": {
            "name": "SQL",
            "display_name": "SQL",
            "language": "sql"
        },
        "language_info": {
            "name": "sql",
            "version": ""
        }
    },
    "nbformat_minor": 2,
    "nbformat": 4,
    "cells": [
        {
            "cell_type": "markdown",
            "source": [
                "# Hands-on Lab : Sub-queries and Nested SELECTs"
            ],
            "metadata": {
                "azdata_cell_guid": "0ac2c60a-a24c-4bad-b155-301b790e290a"
            },
            "attachments": {}
        },
        {
            "cell_type": "markdown",
            "source": [
                "How does a typical Nested SELECT statement syntax look?"
            ],
            "metadata": {
                "azdata_cell_guid": "5b0a5b94-8b5a-43de-9ca3-759135fbe563"
            }
        },
        {
            "cell_type": "code",
            "source": [
                "SELECT column_name [, column_name ]\r\n",
                "FROM table1 [, table2 ]\r\n",
                "WHERE column_name OPERATOR\r\n",
                "    (SELECT column_name [, column_name ]\r\n",
                "    FROM table1 [, table2 ]\r\n",
                "    WHERE condition);"
            ],
            "metadata": {
                "azdata_cell_guid": "ed2c2689-4d0a-4754-88b7-7945f4147760"
            },
            "outputs": [],
            "execution_count": null
        },
        {
            "cell_type": "markdown",
            "source": [
                "Database Used in this Lab"
            ],
            "metadata": {
                "azdata_cell_guid": "843f0d69-d1b6-4f18-91b4-0618b348bfad"
            }
        },
        {
            "cell_type": "code",
            "source": [
                "SELECT * FROM EMPLOYEES;"
            ],
            "metadata": {
                "azdata_cell_guid": "4c3dc537-d7dc-4af1-abef-f6138c47e3c1"
            },
            "outputs": [
                {
                    "output_type": "display_data",
                    "data": {
                        "text/html": "(10 rows affected)"
                    },
                    "metadata": {}
                },
                {
                    "output_type": "display_data",
                    "data": {
                        "text/html": "Total execution time: 00:00:00.007"
                    },
                    "metadata": {}
                },
                {
                    "output_type": "execute_result",
                    "metadata": {},
                    "execution_count": 4,
                    "data": {
                        "application/vnd.dataresource+json": {
                            "schema": {
                                "fields": [
                                    {
                                        "name": "EMP_ID"
                                    },
                                    {
                                        "name": "F_NAME"
                                    },
                                    {
                                        "name": "L_NAME"
                                    },
                                    {
                                        "name": "SSN"
                                    },
                                    {
                                        "name": "B_DATE"
                                    },
                                    {
                                        "name": "SEX"
                                    },
                                    {
                                        "name": "ADDRESS"
                                    },
                                    {
                                        "name": "JOB_ID"
                                    },
                                    {
                                        "name": "SALARY"
                                    },
                                    {
                                        "name": "MANAGER_ID"
                                    },
                                    {
                                        "name": "DEP_ID"
                                    }
                                ]
                            },
                            "data": [
                                {
                                    "0": "E1001    ",
                                    "1": "John",
                                    "2": "Thomas",
                                    "3": "123456   ",
                                    "4": "1976-01-09",
                                    "5": "M",
                                    "6": "\"5631 Rice OakPark IL\"",
                                    "7": "100      ",
                                    "8": "100000.00",
                                    "9": "30001    ",
                                    "10": "2        "
                                },
                                {
                                    "0": "E1002    ",
                                    "1": "Alice",
                                    "2": "James",
                                    "3": "123457   ",
                                    "4": "1972-07-31",
                                    "5": "F",
                                    "6": "\"980 Berry ln Elgin IL\"",
                                    "7": "200      ",
                                    "8": "80000.00",
                                    "9": "30002    ",
                                    "10": "5        "
                                },
                                {
                                    "0": "E1003    ",
                                    "1": "Steve",
                                    "2": "Wells",
                                    "3": "123458   ",
                                    "4": "1980-08-10",
                                    "5": "M",
                                    "6": "\"291 Springs Gary IL\"",
                                    "7": "300      ",
                                    "8": "50000.00",
                                    "9": "30002    ",
                                    "10": "5        "
                                },
                                {
                                    "0": "E1004    ",
                                    "1": "Santosh",
                                    "2": "Kumar",
                                    "3": "123459   ",
                                    "4": "1985-07-20",
                                    "5": "M",
                                    "6": "\"511 Aurora Av Aurora IL\"",
                                    "7": "400      ",
                                    "8": "60000.00",
                                    "9": "30004    ",
                                    "10": "5        "
                                },
                                {
                                    "0": "E1005    ",
                                    "1": "Ahmed",
                                    "2": "Hussain",
                                    "3": "123410   ",
                                    "4": "1981-01-04",
                                    "5": "M",
                                    "6": "\"216 Oak Tree Geneva IL\"",
                                    "7": "500      ",
                                    "8": "70000.00",
                                    "9": "30001    ",
                                    "10": "2        "
                                },
                                {
                                    "0": "E1006    ",
                                    "1": "Nancy",
                                    "2": "Allen",
                                    "3": "123411   ",
                                    "4": "1978-02-06",
                                    "5": "F",
                                    "6": "\"111 Green Pl Elgin IL\"",
                                    "7": "600      ",
                                    "8": "90000.00",
                                    "9": "30001    ",
                                    "10": "2        "
                                },
                                {
                                    "0": "E1007    ",
                                    "1": "Mary",
                                    "2": "Thomas",
                                    "3": "123412   ",
                                    "4": "1975-05-05",
                                    "5": "F",
                                    "6": "\"100 Rose Pl Gary IL\"",
                                    "7": "650      ",
                                    "8": "65000.00",
                                    "9": "30003    ",
                                    "10": "7        "
                                },
                                {
                                    "0": "E1008    ",
                                    "1": "Bharath",
                                    "2": "Gupta",
                                    "3": "123413   ",
                                    "4": "1985-05-06",
                                    "5": "M",
                                    "6": "\"145 Berry Ln Naperville IL\"",
                                    "7": "660      ",
                                    "8": "65000.00",
                                    "9": "30003    ",
                                    "10": "7        "
                                },
                                {
                                    "0": "E1009    ",
                                    "1": "Andrea",
                                    "2": "Jones",
                                    "3": "123414   ",
                                    "4": "1990-07-09",
                                    "5": "F",
                                    "6": "\"120 Fall Creek Gary IL\"",
                                    "7": "234      ",
                                    "8": "70000.00",
                                    "9": "30003    ",
                                    "10": "7        "
                                },
                                {
                                    "0": "E1010    ",
                                    "1": "Ann",
                                    "2": "Jacob",
                                    "3": "123415   ",
                                    "4": "1982-03-30",
                                    "5": "F",
                                    "6": "\"111 Britany Springs Elgin IL\"",
                                    "7": "220      ",
                                    "8": "70000.00",
                                    "9": "30004    ",
                                    "10": "5        "
                                }
                            ]
                        },
                        "text/html": [
                            "<table>",
                            "<tr><th>EMP_ID</th><th>F_NAME</th><th>L_NAME</th><th>SSN</th><th>B_DATE</th><th>SEX</th><th>ADDRESS</th><th>JOB_ID</th><th>SALARY</th><th>MANAGER_ID</th><th>DEP_ID</th></tr>",
                            "<tr><td>E1001    </td><td>John</td><td>Thomas</td><td>123456   </td><td>1976-01-09</td><td>M</td><td>&quot;5631 Rice OakPark IL&quot;</td><td>100      </td><td>100000.00</td><td>30001    </td><td>2        </td></tr>",
                            "<tr><td>E1002    </td><td>Alice</td><td>James</td><td>123457   </td><td>1972-07-31</td><td>F</td><td>&quot;980 Berry ln Elgin IL&quot;</td><td>200      </td><td>80000.00</td><td>30002    </td><td>5        </td></tr>",
                            "<tr><td>E1003    </td><td>Steve</td><td>Wells</td><td>123458   </td><td>1980-08-10</td><td>M</td><td>&quot;291 Springs Gary IL&quot;</td><td>300      </td><td>50000.00</td><td>30002    </td><td>5        </td></tr>",
                            "<tr><td>E1004    </td><td>Santosh</td><td>Kumar</td><td>123459   </td><td>1985-07-20</td><td>M</td><td>&quot;511 Aurora Av Aurora IL&quot;</td><td>400      </td><td>60000.00</td><td>30004    </td><td>5        </td></tr>",
                            "<tr><td>E1005    </td><td>Ahmed</td><td>Hussain</td><td>123410   </td><td>1981-01-04</td><td>M</td><td>&quot;216 Oak Tree Geneva IL&quot;</td><td>500      </td><td>70000.00</td><td>30001    </td><td>2        </td></tr>",
                            "<tr><td>E1006    </td><td>Nancy</td><td>Allen</td><td>123411   </td><td>1978-02-06</td><td>F</td><td>&quot;111 Green Pl Elgin IL&quot;</td><td>600      </td><td>90000.00</td><td>30001    </td><td>2        </td></tr>",
                            "<tr><td>E1007    </td><td>Mary</td><td>Thomas</td><td>123412   </td><td>1975-05-05</td><td>F</td><td>&quot;100 Rose Pl Gary IL&quot;</td><td>650      </td><td>65000.00</td><td>30003    </td><td>7        </td></tr>",
                            "<tr><td>E1008    </td><td>Bharath</td><td>Gupta</td><td>123413   </td><td>1985-05-06</td><td>M</td><td>&quot;145 Berry Ln Naperville IL&quot;</td><td>660      </td><td>65000.00</td><td>30003    </td><td>7        </td></tr>",
                            "<tr><td>E1009    </td><td>Andrea</td><td>Jones</td><td>123414   </td><td>1990-07-09</td><td>F</td><td>&quot;120 Fall Creek Gary IL&quot;</td><td>234      </td><td>70000.00</td><td>30003    </td><td>7        </td></tr>",
                            "<tr><td>E1010    </td><td>Ann</td><td>Jacob</td><td>123415   </td><td>1982-03-30</td><td>F</td><td>&quot;111 Britany Springs Elgin IL&quot;</td><td>220      </td><td>70000.00</td><td>30004    </td><td>5        </td></tr>",
                            "</table>"
                        ]
                    }
                }
            ],
            "execution_count": 4
        },
        {
            "cell_type": "markdown",
            "source": [
                "## Objectives\n",
                "---\n",
                "\n",
                "After completing this lab you will be able to:\n",
                "\n",
                "- Write SQL queries that demonstrate the necessity of using sub-queries\n",
                "- Compose sub-queries in the where clause\n",
                "- Build Column Expressions (i.e. sub-query in place of a column)\n",
                "- Write Table Expressions (i.e. sub-query in place of a table)"
            ],
            "metadata": {
                "azdata_cell_guid": "eef27d7c-2860-4385-bfbb-7c33127b3708"
            },
            "attachments": {}
        },
        {
            "cell_type": "markdown",
            "source": [
                "# Exercise:\r\n",
                "Problem 1: Execute a failing query (i.e. one which gives an error) to retrieve all employees records whose salary is lower than the average salary."
            ],
            "metadata": {
                "azdata_cell_guid": "a47e18c3-d51a-486a-ab7a-8b6b5f23230f"
            },
            "attachments": {}
        },
        {
            "cell_type": "code",
            "source": [
                "SELECT * FROM EMPLOYEES\n",
                "WHERE SALARY < AVG(SALARY);"
            ],
            "metadata": {
                "azdata_cell_guid": "4afb30fd-3811-4257-813e-8f19273d561f"
            },
            "outputs": [
                {
                    "output_type": "error",
                    "evalue": "Msg 147, Level 15, State 1, Line 2\r\nAn aggregate may not appear in the WHERE clause unless it is in a subquery contained in a HAVING clause or a select list, and the column being aggregated is an outer reference.",
                    "ename": "",
                    "traceback": []
                },
                {
                    "output_type": "display_data",
                    "data": {
                        "text/html": "Total execution time: 00:00:00.001"
                    },
                    "metadata": {}
                }
            ],
            "execution_count": 5
        },
        {
            "cell_type": "markdown",
            "source": [
                "Problem 2: Execute a working query using a sub-select to retrieve all employees records whose salary is lower than the average salary."
            ],
            "metadata": {
                "azdata_cell_guid": "83a587ac-b6c0-4d70-ab57-ce26d2001a63"
            }
        },
        {
            "cell_type": "code",
            "source": [
                "SELECT * FROM EMPLOYEES\r\n",
                "WHERE SALARY < (select AVG(SALARY) from EMPLOYEES);"
            ],
            "metadata": {
                "azdata_cell_guid": "729b7e9a-03fb-4824-9fa8-7865ceee498e"
            },
            "outputs": [
                {
                    "output_type": "display_data",
                    "data": {
                        "text/html": "(7 rows affected)"
                    },
                    "metadata": {}
                },
                {
                    "output_type": "display_data",
                    "data": {
                        "text/html": "Total execution time: 00:00:00.012"
                    },
                    "metadata": {}
                },
                {
                    "output_type": "execute_result",
                    "metadata": {},
                    "execution_count": 6,
                    "data": {
                        "application/vnd.dataresource+json": {
                            "schema": {
                                "fields": [
                                    {
                                        "name": "EMP_ID"
                                    },
                                    {
                                        "name": "F_NAME"
                                    },
                                    {
                                        "name": "L_NAME"
                                    },
                                    {
                                        "name": "SSN"
                                    },
                                    {
                                        "name": "B_DATE"
                                    },
                                    {
                                        "name": "SEX"
                                    },
                                    {
                                        "name": "ADDRESS"
                                    },
                                    {
                                        "name": "JOB_ID"
                                    },
                                    {
                                        "name": "SALARY"
                                    },
                                    {
                                        "name": "MANAGER_ID"
                                    },
                                    {
                                        "name": "DEP_ID"
                                    }
                                ]
                            },
                            "data": [
                                {
                                    "0": "E1003    ",
                                    "1": "Steve",
                                    "2": "Wells",
                                    "3": "123458   ",
                                    "4": "1980-08-10",
                                    "5": "M",
                                    "6": "\"291 Springs Gary IL\"",
                                    "7": "300      ",
                                    "8": "50000.00",
                                    "9": "30002    ",
                                    "10": "5        "
                                },
                                {
                                    "0": "E1004    ",
                                    "1": "Santosh",
                                    "2": "Kumar",
                                    "3": "123459   ",
                                    "4": "1985-07-20",
                                    "5": "M",
                                    "6": "\"511 Aurora Av Aurora IL\"",
                                    "7": "400      ",
                                    "8": "60000.00",
                                    "9": "30004    ",
                                    "10": "5        "
                                },
                                {
                                    "0": "E1005    ",
                                    "1": "Ahmed",
                                    "2": "Hussain",
                                    "3": "123410   ",
                                    "4": "1981-01-04",
                                    "5": "M",
                                    "6": "\"216 Oak Tree Geneva IL\"",
                                    "7": "500      ",
                                    "8": "70000.00",
                                    "9": "30001    ",
                                    "10": "2        "
                                },
                                {
                                    "0": "E1007    ",
                                    "1": "Mary",
                                    "2": "Thomas",
                                    "3": "123412   ",
                                    "4": "1975-05-05",
                                    "5": "F",
                                    "6": "\"100 Rose Pl Gary IL\"",
                                    "7": "650      ",
                                    "8": "65000.00",
                                    "9": "30003    ",
                                    "10": "7        "
                                },
                                {
                                    "0": "E1008    ",
                                    "1": "Bharath",
                                    "2": "Gupta",
                                    "3": "123413   ",
                                    "4": "1985-05-06",
                                    "5": "M",
                                    "6": "\"145 Berry Ln Naperville IL\"",
                                    "7": "660      ",
                                    "8": "65000.00",
                                    "9": "30003    ",
                                    "10": "7        "
                                },
                                {
                                    "0": "E1009    ",
                                    "1": "Andrea",
                                    "2": "Jones",
                                    "3": "123414   ",
                                    "4": "1990-07-09",
                                    "5": "F",
                                    "6": "\"120 Fall Creek Gary IL\"",
                                    "7": "234      ",
                                    "8": "70000.00",
                                    "9": "30003    ",
                                    "10": "7        "
                                },
                                {
                                    "0": "E1010    ",
                                    "1": "Ann",
                                    "2": "Jacob",
                                    "3": "123415   ",
                                    "4": "1982-03-30",
                                    "5": "F",
                                    "6": "\"111 Britany Springs Elgin IL\"",
                                    "7": "220      ",
                                    "8": "70000.00",
                                    "9": "30004    ",
                                    "10": "5        "
                                }
                            ]
                        },
                        "text/html": [
                            "<table>",
                            "<tr><th>EMP_ID</th><th>F_NAME</th><th>L_NAME</th><th>SSN</th><th>B_DATE</th><th>SEX</th><th>ADDRESS</th><th>JOB_ID</th><th>SALARY</th><th>MANAGER_ID</th><th>DEP_ID</th></tr>",
                            "<tr><td>E1003    </td><td>Steve</td><td>Wells</td><td>123458   </td><td>1980-08-10</td><td>M</td><td>&quot;291 Springs Gary IL&quot;</td><td>300      </td><td>50000.00</td><td>30002    </td><td>5        </td></tr>",
                            "<tr><td>E1004    </td><td>Santosh</td><td>Kumar</td><td>123459   </td><td>1985-07-20</td><td>M</td><td>&quot;511 Aurora Av Aurora IL&quot;</td><td>400      </td><td>60000.00</td><td>30004    </td><td>5        </td></tr>",
                            "<tr><td>E1005    </td><td>Ahmed</td><td>Hussain</td><td>123410   </td><td>1981-01-04</td><td>M</td><td>&quot;216 Oak Tree Geneva IL&quot;</td><td>500      </td><td>70000.00</td><td>30001    </td><td>2        </td></tr>",
                            "<tr><td>E1007    </td><td>Mary</td><td>Thomas</td><td>123412   </td><td>1975-05-05</td><td>F</td><td>&quot;100 Rose Pl Gary IL&quot;</td><td>650      </td><td>65000.00</td><td>30003    </td><td>7        </td></tr>",
                            "<tr><td>E1008    </td><td>Bharath</td><td>Gupta</td><td>123413   </td><td>1985-05-06</td><td>M</td><td>&quot;145 Berry Ln Naperville IL&quot;</td><td>660      </td><td>65000.00</td><td>30003    </td><td>7        </td></tr>",
                            "<tr><td>E1009    </td><td>Andrea</td><td>Jones</td><td>123414   </td><td>1990-07-09</td><td>F</td><td>&quot;120 Fall Creek Gary IL&quot;</td><td>234      </td><td>70000.00</td><td>30003    </td><td>7        </td></tr>",
                            "<tr><td>E1010    </td><td>Ann</td><td>Jacob</td><td>123415   </td><td>1982-03-30</td><td>F</td><td>&quot;111 Britany Springs Elgin IL&quot;</td><td>220      </td><td>70000.00</td><td>30004    </td><td>5        </td></tr>",
                            "</table>"
                        ]
                    }
                }
            ],
            "execution_count": 6
        },
        {
            "cell_type": "markdown",
            "source": [
                "Problem 3: Execute a failing query (i.e. one which gives an error) to retrieve all employees records with EMP_ID, SALARY and maximum salary as MAX_SALARY in every row."
            ],
            "metadata": {
                "azdata_cell_guid": "2aee5db4-9146-41f1-b370-61ca5e799e4f"
            }
        },
        {
            "cell_type": "code",
            "source": [
                "SELECT EMP_ID, SALARY, MAX(SALARY) AS MAX_SALARY \r\n",
                "FROM EMPLOYEES;"
            ],
            "metadata": {
                "azdata_cell_guid": "701d4f68-8449-4846-8e9e-5da63ec9ac9a",
                "tags": []
            },
            "outputs": [
                {
                    "output_type": "error",
                    "evalue": "Msg 8120, Level 16, State 1, Line 1\r\nColumn 'EMPLOYEES.EMP_ID' is invalid in the select list because it is not contained in either an aggregate function or the GROUP BY clause.",
                    "ename": "",
                    "traceback": []
                },
                {
                    "output_type": "display_data",
                    "data": {
                        "text/html": "Total execution time: 00:00:00.001"
                    },
                    "metadata": {}
                }
            ],
            "execution_count": 7
        },
        {
            "cell_type": "markdown",
            "source": [
                "Problem 4: Execute a Column Expression that retrieves all employees records with EMP_ID, SALARY and maximum salary as MAX_SALARY in every row."
            ],
            "metadata": {
                "azdata_cell_guid": "48be237c-9011-4b85-a2ed-30c25d8ca79a"
            }
        },
        {
            "cell_type": "code",
            "source": [
                "SELECT EMP_ID, SALARY,\r\n",
                "        (select MAX(SALARY) FROM EMPLOYEES) AS MAX_SALARY\r\n",
                "        FROM EMPLOYEES;"
            ],
            "metadata": {
                "azdata_cell_guid": "20306611-0100-46e3-9033-e0045d3ee5a9",
                "tags": []
            },
            "outputs": [
                {
                    "output_type": "display_data",
                    "data": {
                        "text/html": "(10 rows affected)"
                    },
                    "metadata": {}
                },
                {
                    "output_type": "display_data",
                    "data": {
                        "text/html": "Total execution time: 00:00:00.005"
                    },
                    "metadata": {}
                },
                {
                    "output_type": "execute_result",
                    "metadata": {},
                    "execution_count": 8,
                    "data": {
                        "application/vnd.dataresource+json": {
                            "schema": {
                                "fields": [
                                    {
                                        "name": "EMP_ID"
                                    },
                                    {
                                        "name": "SALARY"
                                    },
                                    {
                                        "name": "MAX_SALARY"
                                    }
                                ]
                            },
                            "data": [
                                {
                                    "0": "E1001    ",
                                    "1": "100000.00",
                                    "2": "100000.00"
                                },
                                {
                                    "0": "E1002    ",
                                    "1": "80000.00",
                                    "2": "100000.00"
                                },
                                {
                                    "0": "E1003    ",
                                    "1": "50000.00",
                                    "2": "100000.00"
                                },
                                {
                                    "0": "E1004    ",
                                    "1": "60000.00",
                                    "2": "100000.00"
                                },
                                {
                                    "0": "E1005    ",
                                    "1": "70000.00",
                                    "2": "100000.00"
                                },
                                {
                                    "0": "E1006    ",
                                    "1": "90000.00",
                                    "2": "100000.00"
                                },
                                {
                                    "0": "E1007    ",
                                    "1": "65000.00",
                                    "2": "100000.00"
                                },
                                {
                                    "0": "E1008    ",
                                    "1": "65000.00",
                                    "2": "100000.00"
                                },
                                {
                                    "0": "E1009    ",
                                    "1": "70000.00",
                                    "2": "100000.00"
                                },
                                {
                                    "0": "E1010    ",
                                    "1": "70000.00",
                                    "2": "100000.00"
                                }
                            ]
                        },
                        "text/html": [
                            "<table>",
                            "<tr><th>EMP_ID</th><th>SALARY</th><th>MAX_SALARY</th></tr>",
                            "<tr><td>E1001    </td><td>100000.00</td><td>100000.00</td></tr>",
                            "<tr><td>E1002    </td><td>80000.00</td><td>100000.00</td></tr>",
                            "<tr><td>E1003    </td><td>50000.00</td><td>100000.00</td></tr>",
                            "<tr><td>E1004    </td><td>60000.00</td><td>100000.00</td></tr>",
                            "<tr><td>E1005    </td><td>70000.00</td><td>100000.00</td></tr>",
                            "<tr><td>E1006    </td><td>90000.00</td><td>100000.00</td></tr>",
                            "<tr><td>E1007    </td><td>65000.00</td><td>100000.00</td></tr>",
                            "<tr><td>E1008    </td><td>65000.00</td><td>100000.00</td></tr>",
                            "<tr><td>E1009    </td><td>70000.00</td><td>100000.00</td></tr>",
                            "<tr><td>E1010    </td><td>70000.00</td><td>100000.00</td></tr>",
                            "</table>"
                        ]
                    }
                }
            ],
            "execution_count": 8
        },
        {
            "cell_type": "markdown",
            "source": [
                "Problem 5: Execute a Table Expression for the EMPLOYEES table that excludes columns with sensitive employee data (i.e. does not include columns: SSN, B_DATE, SEX, ADDRESS, SALARY)."
            ],
            "metadata": {
                "azdata_cell_guid": "a663104e-99b4-4a7c-9584-f6d63cff83c9"
            }
        },
        {
            "cell_type": "code",
            "source": [
                "SELECT * FROM\r\n",
                "        (select EMP_ID, F_NAME, L_NAME, DEP_ID \r\n",
                "            FROM EMPLOYEES) AS EMP4ALL;"
            ],
            "metadata": {
                "azdata_cell_guid": "78d0c03a-0c94-43b1-b2a9-2f1baef9d937"
            },
            "outputs": [
                {
                    "output_type": "display_data",
                    "data": {
                        "text/html": "(10 rows affected)"
                    },
                    "metadata": {}
                },
                {
                    "output_type": "display_data",
                    "data": {
                        "text/html": "Total execution time: 00:00:00.005"
                    },
                    "metadata": {}
                },
                {
                    "output_type": "execute_result",
                    "metadata": {},
                    "execution_count": 9,
                    "data": {
                        "application/vnd.dataresource+json": {
                            "schema": {
                                "fields": [
                                    {
                                        "name": "EMP_ID"
                                    },
                                    {
                                        "name": "F_NAME"
                                    },
                                    {
                                        "name": "L_NAME"
                                    },
                                    {
                                        "name": "DEP_ID"
                                    }
                                ]
                            },
                            "data": [
                                {
                                    "0": "E1001    ",
                                    "1": "John",
                                    "2": "Thomas",
                                    "3": "2        "
                                },
                                {
                                    "0": "E1002    ",
                                    "1": "Alice",
                                    "2": "James",
                                    "3": "5        "
                                },
                                {
                                    "0": "E1003    ",
                                    "1": "Steve",
                                    "2": "Wells",
                                    "3": "5        "
                                },
                                {
                                    "0": "E1004    ",
                                    "1": "Santosh",
                                    "2": "Kumar",
                                    "3": "5        "
                                },
                                {
                                    "0": "E1005    ",
                                    "1": "Ahmed",
                                    "2": "Hussain",
                                    "3": "2        "
                                },
                                {
                                    "0": "E1006    ",
                                    "1": "Nancy",
                                    "2": "Allen",
                                    "3": "2        "
                                },
                                {
                                    "0": "E1007    ",
                                    "1": "Mary",
                                    "2": "Thomas",
                                    "3": "7        "
                                },
                                {
                                    "0": "E1008    ",
                                    "1": "Bharath",
                                    "2": "Gupta",
                                    "3": "7        "
                                },
                                {
                                    "0": "E1009    ",
                                    "1": "Andrea",
                                    "2": "Jones",
                                    "3": "7        "
                                },
                                {
                                    "0": "E1010    ",
                                    "1": "Ann",
                                    "2": "Jacob",
                                    "3": "5        "
                                }
                            ]
                        },
                        "text/html": [
                            "<table>",
                            "<tr><th>EMP_ID</th><th>F_NAME</th><th>L_NAME</th><th>DEP_ID</th></tr>",
                            "<tr><td>E1001    </td><td>John</td><td>Thomas</td><td>2        </td></tr>",
                            "<tr><td>E1002    </td><td>Alice</td><td>James</td><td>5        </td></tr>",
                            "<tr><td>E1003    </td><td>Steve</td><td>Wells</td><td>5        </td></tr>",
                            "<tr><td>E1004    </td><td>Santosh</td><td>Kumar</td><td>5        </td></tr>",
                            "<tr><td>E1005    </td><td>Ahmed</td><td>Hussain</td><td>2        </td></tr>",
                            "<tr><td>E1006    </td><td>Nancy</td><td>Allen</td><td>2        </td></tr>",
                            "<tr><td>E1007    </td><td>Mary</td><td>Thomas</td><td>7        </td></tr>",
                            "<tr><td>E1008    </td><td>Bharath</td><td>Gupta</td><td>7        </td></tr>",
                            "<tr><td>E1009    </td><td>Andrea</td><td>Jones</td><td>7        </td></tr>",
                            "<tr><td>E1010    </td><td>Ann</td><td>Jacob</td><td>5        </td></tr>",
                            "</table>"
                        ]
                    }
                }
            ],
            "execution_count": 9
        }
    ]
}