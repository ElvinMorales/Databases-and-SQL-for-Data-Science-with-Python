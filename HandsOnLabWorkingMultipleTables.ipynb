{
    "metadata": {
        "kernelspec": {
            "name": "SQL",
            "display_name": "SQL",
            "language": "sql"
        },
        "language_info": {
            "name": "sql",
            "version": ""
        }
    },
    "nbformat_minor": 2,
    "nbformat": 4,
    "cells": [
        {
            "cell_type": "markdown",
            "source": [
                "# Hands-on Lab: Working with Multiple Tables\r\n",
                "\r\n",
                "How does an Implicit version of CROSS JOIN (also known as Cartesian Join) statement syntax look?"
            ],
            "metadata": {
                "azdata_cell_guid": "9a77452f-296b-462c-8c29-cf57b56eebc8"
            }
        },
        {
            "cell_type": "code",
            "source": [
                "SELECT column_name(s)\r\n",
                "FROM table1, table2;"
            ],
            "metadata": {
                "azdata_cell_guid": "42d6bd5e-ca4d-420b-b6ec-274f6a24d5ab"
            },
            "outputs": [],
            "execution_count": null
        },
        {
            "cell_type": "markdown",
            "source": [
                "How does an Implicit version of INNER JOIN statement syntax look?"
            ],
            "metadata": {
                "azdata_cell_guid": "d53f3533-e21b-4923-bd11-20395056a1d2"
            },
            "attachments": {}
        },
        {
            "cell_type": "code",
            "source": [
                "SELECT column_name(s)\r\n",
                "FROM table1, table2\r\n",
                "WHERE table1.column_name = table2.column_name;"
            ],
            "metadata": {
                "azdata_cell_guid": "d985ad41-002e-4f6e-887b-ded8af95b091"
            },
            "outputs": [],
            "execution_count": null
        },
        {
            "cell_type": "markdown",
            "source": [
                "Database Tables used in this lab:"
            ],
            "metadata": {
                "azdata_cell_guid": "b3b2da9e-cf09-48ec-921b-280beae85822"
            },
            "attachments": {}
        },
        {
            "cell_type": "code",
            "source": [
                "SELECT * FROM EMPLOYEES;\r\n",
                "SELECT * FROM JOBS;"
            ],
            "metadata": {
                "azdata_cell_guid": "ef97595d-b014-4810-9006-8f622719b0ae",
                "tags": []
            },
            "outputs": [
                {
                    "output_type": "display_data",
                    "data": {
                        "text/html": "(10 rows affected)"
                    },
                    "metadata": {}
                },
                {
                    "output_type": "display_data",
                    "data": {
                        "text/html": "(10 rows affected)"
                    },
                    "metadata": {}
                },
                {
                    "output_type": "display_data",
                    "data": {
                        "text/html": "Total execution time: 00:00:00.016"
                    },
                    "metadata": {}
                },
                {
                    "output_type": "execute_result",
                    "metadata": {},
                    "execution_count": 2,
                    "data": {
                        "application/vnd.dataresource+json": {
                            "schema": {
                                "fields": [
                                    {
                                        "name": "EMP_ID"
                                    },
                                    {
                                        "name": "F_NAME"
                                    },
                                    {
                                        "name": "L_NAME"
                                    },
                                    {
                                        "name": "SSN"
                                    },
                                    {
                                        "name": "B_DATE"
                                    },
                                    {
                                        "name": "SEX"
                                    },
                                    {
                                        "name": "ADDRESS"
                                    },
                                    {
                                        "name": "JOB_ID"
                                    },
                                    {
                                        "name": "SALARY"
                                    },
                                    {
                                        "name": "MANAGER_ID"
                                    },
                                    {
                                        "name": "DEP_ID"
                                    }
                                ]
                            },
                            "data": [
                                {
                                    "0": "E1001    ",
                                    "1": "John",
                                    "2": "Thomas",
                                    "3": "123456   ",
                                    "4": "1976-01-09",
                                    "5": "M",
                                    "6": "\"5631 Rice OakPark IL\"",
                                    "7": "100      ",
                                    "8": "100000.00",
                                    "9": "30001    ",
                                    "10": "2        "
                                },
                                {
                                    "0": "E1002    ",
                                    "1": "Alice",
                                    "2": "James",
                                    "3": "123457   ",
                                    "4": "1972-07-31",
                                    "5": "F",
                                    "6": "\"980 Berry ln Elgin IL\"",
                                    "7": "200      ",
                                    "8": "80000.00",
                                    "9": "30002    ",
                                    "10": "5        "
                                },
                                {
                                    "0": "E1003    ",
                                    "1": "Steve",
                                    "2": "Wells",
                                    "3": "123458   ",
                                    "4": "1980-08-10",
                                    "5": "M",
                                    "6": "\"291 Springs Gary IL\"",
                                    "7": "300      ",
                                    "8": "50000.00",
                                    "9": "30002    ",
                                    "10": "5        "
                                },
                                {
                                    "0": "E1004    ",
                                    "1": "Santosh",
                                    "2": "Kumar",
                                    "3": "123459   ",
                                    "4": "1985-07-20",
                                    "5": "M",
                                    "6": "\"511 Aurora Av Aurora IL\"",
                                    "7": "400      ",
                                    "8": "60000.00",
                                    "9": "30004    ",
                                    "10": "5        "
                                },
                                {
                                    "0": "E1005    ",
                                    "1": "Ahmed",
                                    "2": "Hussain",
                                    "3": "123410   ",
                                    "4": "1981-01-04",
                                    "5": "M",
                                    "6": "\"216 Oak Tree Geneva IL\"",
                                    "7": "500      ",
                                    "8": "70000.00",
                                    "9": "30001    ",
                                    "10": "2        "
                                },
                                {
                                    "0": "E1006    ",
                                    "1": "Nancy",
                                    "2": "Allen",
                                    "3": "123411   ",
                                    "4": "1978-02-06",
                                    "5": "F",
                                    "6": "\"111 Green Pl Elgin IL\"",
                                    "7": "600      ",
                                    "8": "90000.00",
                                    "9": "30001    ",
                                    "10": "2        "
                                },
                                {
                                    "0": "E1007    ",
                                    "1": "Mary",
                                    "2": "Thomas",
                                    "3": "123412   ",
                                    "4": "1975-05-05",
                                    "5": "F",
                                    "6": "\"100 Rose Pl Gary IL\"",
                                    "7": "650      ",
                                    "8": "65000.00",
                                    "9": "30003    ",
                                    "10": "7        "
                                },
                                {
                                    "0": "E1008    ",
                                    "1": "Bharath",
                                    "2": "Gupta",
                                    "3": "123413   ",
                                    "4": "1985-05-06",
                                    "5": "M",
                                    "6": "\"145 Berry Ln Naperville IL\"",
                                    "7": "660      ",
                                    "8": "65000.00",
                                    "9": "30003    ",
                                    "10": "7        "
                                },
                                {
                                    "0": "E1009    ",
                                    "1": "Andrea",
                                    "2": "Jones",
                                    "3": "123414   ",
                                    "4": "1990-07-09",
                                    "5": "F",
                                    "6": "\"120 Fall Creek Gary IL\"",
                                    "7": "234      ",
                                    "8": "70000.00",
                                    "9": "30003    ",
                                    "10": "7        "
                                },
                                {
                                    "0": "E1010    ",
                                    "1": "Ann",
                                    "2": "Jacob",
                                    "3": "123415   ",
                                    "4": "1982-03-30",
                                    "5": "F",
                                    "6": "\"111 Britany Springs Elgin IL\"",
                                    "7": "220      ",
                                    "8": "70000.00",
                                    "9": "30004    ",
                                    "10": "5        "
                                }
                            ]
                        },
                        "text/html": [
                            "<table>",
                            "<tr><th>EMP_ID</th><th>F_NAME</th><th>L_NAME</th><th>SSN</th><th>B_DATE</th><th>SEX</th><th>ADDRESS</th><th>JOB_ID</th><th>SALARY</th><th>MANAGER_ID</th><th>DEP_ID</th></tr>",
                            "<tr><td>E1001    </td><td>John</td><td>Thomas</td><td>123456   </td><td>1976-01-09</td><td>M</td><td>&quot;5631 Rice OakPark IL&quot;</td><td>100      </td><td>100000.00</td><td>30001    </td><td>2        </td></tr>",
                            "<tr><td>E1002    </td><td>Alice</td><td>James</td><td>123457   </td><td>1972-07-31</td><td>F</td><td>&quot;980 Berry ln Elgin IL&quot;</td><td>200      </td><td>80000.00</td><td>30002    </td><td>5        </td></tr>",
                            "<tr><td>E1003    </td><td>Steve</td><td>Wells</td><td>123458   </td><td>1980-08-10</td><td>M</td><td>&quot;291 Springs Gary IL&quot;</td><td>300      </td><td>50000.00</td><td>30002    </td><td>5        </td></tr>",
                            "<tr><td>E1004    </td><td>Santosh</td><td>Kumar</td><td>123459   </td><td>1985-07-20</td><td>M</td><td>&quot;511 Aurora Av Aurora IL&quot;</td><td>400      </td><td>60000.00</td><td>30004    </td><td>5        </td></tr>",
                            "<tr><td>E1005    </td><td>Ahmed</td><td>Hussain</td><td>123410   </td><td>1981-01-04</td><td>M</td><td>&quot;216 Oak Tree Geneva IL&quot;</td><td>500      </td><td>70000.00</td><td>30001    </td><td>2        </td></tr>",
                            "<tr><td>E1006    </td><td>Nancy</td><td>Allen</td><td>123411   </td><td>1978-02-06</td><td>F</td><td>&quot;111 Green Pl Elgin IL&quot;</td><td>600      </td><td>90000.00</td><td>30001    </td><td>2        </td></tr>",
                            "<tr><td>E1007    </td><td>Mary</td><td>Thomas</td><td>123412   </td><td>1975-05-05</td><td>F</td><td>&quot;100 Rose Pl Gary IL&quot;</td><td>650      </td><td>65000.00</td><td>30003    </td><td>7        </td></tr>",
                            "<tr><td>E1008    </td><td>Bharath</td><td>Gupta</td><td>123413   </td><td>1985-05-06</td><td>M</td><td>&quot;145 Berry Ln Naperville IL&quot;</td><td>660      </td><td>65000.00</td><td>30003    </td><td>7        </td></tr>",
                            "<tr><td>E1009    </td><td>Andrea</td><td>Jones</td><td>123414   </td><td>1990-07-09</td><td>F</td><td>&quot;120 Fall Creek Gary IL&quot;</td><td>234      </td><td>70000.00</td><td>30003    </td><td>7        </td></tr>",
                            "<tr><td>E1010    </td><td>Ann</td><td>Jacob</td><td>123415   </td><td>1982-03-30</td><td>F</td><td>&quot;111 Britany Springs Elgin IL&quot;</td><td>220      </td><td>70000.00</td><td>30004    </td><td>5        </td></tr>",
                            "</table>"
                        ]
                    }
                },
                {
                    "output_type": "execute_result",
                    "metadata": {},
                    "execution_count": 2,
                    "data": {
                        "application/vnd.dataresource+json": {
                            "schema": {
                                "fields": [
                                    {
                                        "name": "JOB_IDENT"
                                    },
                                    {
                                        "name": "JOB_TITLE"
                                    },
                                    {
                                        "name": "MIN_SALARY"
                                    },
                                    {
                                        "name": "MAX_SALARY"
                                    }
                                ]
                            },
                            "data": [
                                {
                                    "0": "100      ",
                                    "1": "Sr. Architect",
                                    "2": "60000.00",
                                    "3": "100000.00"
                                },
                                {
                                    "0": "200      ",
                                    "1": "Sr.Software Dev",
                                    "2": "60000.00",
                                    "3": "80000.00"
                                },
                                {
                                    "0": "220      ",
                                    "1": "Sr. Designer",
                                    "2": "70000.00",
                                    "3": "90000.00"
                                },
                                {
                                    "0": "234      ",
                                    "1": "Sr. Designer",
                                    "2": "70000.00",
                                    "3": "90000.00"
                                },
                                {
                                    "0": "300      ",
                                    "1": "Jr.Software Dev",
                                    "2": "40000.00",
                                    "3": "60000.00"
                                },
                                {
                                    "0": "400      ",
                                    "1": "Jr.Software Dev",
                                    "2": "40000.00",
                                    "3": "60000.00"
                                },
                                {
                                    "0": "500      ",
                                    "1": "Jr. Architect",
                                    "2": "50000.00",
                                    "3": "70000.00"
                                },
                                {
                                    "0": "600      ",
                                    "1": "Lead Architect",
                                    "2": "70000.00",
                                    "3": "100000.00"
                                },
                                {
                                    "0": "650      ",
                                    "1": "Jr. Designer",
                                    "2": "60000.00",
                                    "3": "70000.00"
                                },
                                {
                                    "0": "660      ",
                                    "1": "Jr. Designer",
                                    "2": "60000.00",
                                    "3": "70000.00"
                                }
                            ]
                        },
                        "text/html": [
                            "<table>",
                            "<tr><th>JOB_IDENT</th><th>JOB_TITLE</th><th>MIN_SALARY</th><th>MAX_SALARY</th></tr>",
                            "<tr><td>100      </td><td>Sr. Architect</td><td>60000.00</td><td>100000.00</td></tr>",
                            "<tr><td>200      </td><td>Sr.Software Dev</td><td>60000.00</td><td>80000.00</td></tr>",
                            "<tr><td>220      </td><td>Sr. Designer</td><td>70000.00</td><td>90000.00</td></tr>",
                            "<tr><td>234      </td><td>Sr. Designer</td><td>70000.00</td><td>90000.00</td></tr>",
                            "<tr><td>300      </td><td>Jr.Software Dev</td><td>40000.00</td><td>60000.00</td></tr>",
                            "<tr><td>400      </td><td>Jr.Software Dev</td><td>40000.00</td><td>60000.00</td></tr>",
                            "<tr><td>500      </td><td>Jr. Architect</td><td>50000.00</td><td>70000.00</td></tr>",
                            "<tr><td>600      </td><td>Lead Architect</td><td>70000.00</td><td>100000.00</td></tr>",
                            "<tr><td>650      </td><td>Jr. Designer</td><td>60000.00</td><td>70000.00</td></tr>",
                            "<tr><td>660      </td><td>Jr. Designer</td><td>60000.00</td><td>70000.00</td></tr>",
                            "</table>"
                        ]
                    }
                }
            ],
            "execution_count": 2
        },
        {
            "cell_type": "markdown",
            "source": [
                "Objectives\r\n",
                "After completing this lab you will be able to:\r\n",
                "- Write SQL queries that access more than one table\r\n",
                "- Compose queries that access multiple tables using a nested statement in the WHERE clause\r\n",
                "- Build queries with multiple tables in the FROM clause\r\n",
                "- Write Implicit Join queries with join criteria specified in the WHERE clause\r\n",
                "- Specify aliases for table names and qualify column names with table aliases"
            ],
            "metadata": {
                "azdata_cell_guid": "c7a34d5c-db2c-4109-a98b-915d4685b9f5"
            },
            "attachments": {}
        },
        {
            "cell_type": "markdown",
            "source": [
                "Excersice 1: Accessing Multiple Tables with Sub-Queries\r\n",
                "1. Problem:\r\n",
                "    Retrieve only the EMPLOYEES records that correspond to jobs in the JOBS table."
            ],
            "metadata": {
                "azdata_cell_guid": "07fce2a5-cc0d-4bf1-91ef-054806d21aee"
            },
            "attachments": {}
        },
        {
            "cell_type": "code",
            "source": [
                "SELECT * from EMPLOYEES\r\n",
                "        WHERE JOB_ID IN\r\n",
                "        (select JOB_IDENT FROM JOBS);"
            ],
            "metadata": {
                "azdata_cell_guid": "0ebebab2-f11b-45bf-88d1-71a226e911cc"
            },
            "outputs": [
                {
                    "output_type": "display_data",
                    "data": {
                        "text/html": "(10 rows affected)"
                    },
                    "metadata": {}
                },
                {
                    "output_type": "display_data",
                    "data": {
                        "text/html": "Total execution time: 00:00:00.013"
                    },
                    "metadata": {}
                },
                {
                    "output_type": "execute_result",
                    "execution_count": 2,
                    "data": {
                        "application/vnd.dataresource+json": {
                            "schema": {
                                "fields": [
                                    {
                                        "name": "EMP_ID"
                                    },
                                    {
                                        "name": "F_NAME"
                                    },
                                    {
                                        "name": "L_NAME"
                                    },
                                    {
                                        "name": "SSN"
                                    },
                                    {
                                        "name": "B_DATE"
                                    },
                                    {
                                        "name": "SEX"
                                    },
                                    {
                                        "name": "ADDRESS"
                                    },
                                    {
                                        "name": "JOB_ID"
                                    },
                                    {
                                        "name": "SALARY"
                                    },
                                    {
                                        "name": "MANAGER_ID"
                                    },
                                    {
                                        "name": "DEP_ID"
                                    }
                                ]
                            },
                            "data": [
                                {
                                    "0": "E1001    ",
                                    "1": "John",
                                    "2": "Thomas",
                                    "3": "123456   ",
                                    "4": "1976-01-09",
                                    "5": "M",
                                    "6": "\"5631 Rice OakPark IL\"",
                                    "7": "100      ",
                                    "8": "100000.00",
                                    "9": "30001    ",
                                    "10": "2        "
                                },
                                {
                                    "0": "E1002    ",
                                    "1": "Alice",
                                    "2": "James",
                                    "3": "123457   ",
                                    "4": "1972-07-31",
                                    "5": "F",
                                    "6": "\"980 Berry ln Elgin IL\"",
                                    "7": "200      ",
                                    "8": "80000.00",
                                    "9": "30002    ",
                                    "10": "5        "
                                },
                                {
                                    "0": "E1003    ",
                                    "1": "Steve",
                                    "2": "Wells",
                                    "3": "123458   ",
                                    "4": "1980-08-10",
                                    "5": "M",
                                    "6": "\"291 Springs Gary IL\"",
                                    "7": "300      ",
                                    "8": "50000.00",
                                    "9": "30002    ",
                                    "10": "5        "
                                },
                                {
                                    "0": "E1004    ",
                                    "1": "Santosh",
                                    "2": "Kumar",
                                    "3": "123459   ",
                                    "4": "1985-07-20",
                                    "5": "M",
                                    "6": "\"511 Aurora Av Aurora IL\"",
                                    "7": "400      ",
                                    "8": "60000.00",
                                    "9": "30004    ",
                                    "10": "5        "
                                },
                                {
                                    "0": "E1005    ",
                                    "1": "Ahmed",
                                    "2": "Hussain",
                                    "3": "123410   ",
                                    "4": "1981-01-04",
                                    "5": "M",
                                    "6": "\"216 Oak Tree Geneva IL\"",
                                    "7": "500      ",
                                    "8": "70000.00",
                                    "9": "30001    ",
                                    "10": "2        "
                                },
                                {
                                    "0": "E1006    ",
                                    "1": "Nancy",
                                    "2": "Allen",
                                    "3": "123411   ",
                                    "4": "1978-02-06",
                                    "5": "F",
                                    "6": "\"111 Green Pl Elgin IL\"",
                                    "7": "600      ",
                                    "8": "90000.00",
                                    "9": "30001    ",
                                    "10": "2        "
                                },
                                {
                                    "0": "E1007    ",
                                    "1": "Mary",
                                    "2": "Thomas",
                                    "3": "123412   ",
                                    "4": "1975-05-05",
                                    "5": "F",
                                    "6": "\"100 Rose Pl Gary IL\"",
                                    "7": "650      ",
                                    "8": "65000.00",
                                    "9": "30003    ",
                                    "10": "7        "
                                },
                                {
                                    "0": "E1008    ",
                                    "1": "Bharath",
                                    "2": "Gupta",
                                    "3": "123413   ",
                                    "4": "1985-05-06",
                                    "5": "M",
                                    "6": "\"145 Berry Ln Naperville IL\"",
                                    "7": "660      ",
                                    "8": "65000.00",
                                    "9": "30003    ",
                                    "10": "7        "
                                },
                                {
                                    "0": "E1009    ",
                                    "1": "Andrea",
                                    "2": "Jones",
                                    "3": "123414   ",
                                    "4": "1990-07-09",
                                    "5": "F",
                                    "6": "\"120 Fall Creek Gary IL\"",
                                    "7": "234      ",
                                    "8": "70000.00",
                                    "9": "30003    ",
                                    "10": "7        "
                                },
                                {
                                    "0": "E1010    ",
                                    "1": "Ann",
                                    "2": "Jacob",
                                    "3": "123415   ",
                                    "4": "1982-03-30",
                                    "5": "F",
                                    "6": "\"111 Britany Springs Elgin IL\"",
                                    "7": "220      ",
                                    "8": "70000.00",
                                    "9": "30004    ",
                                    "10": "5        "
                                }
                            ]
                        },
                        "text/html": "<table><tr><th>EMP_ID</th><th>F_NAME</th><th>L_NAME</th><th>SSN</th><th>B_DATE</th><th>SEX</th><th>ADDRESS</th><th>JOB_ID</th><th>SALARY</th><th>MANAGER_ID</th><th>DEP_ID</th></tr><tr><td>E1001    </td><td>John</td><td>Thomas</td><td>123456   </td><td>1976-01-09</td><td>M</td><td>&quot;5631 Rice OakPark IL&quot;</td><td>100      </td><td>100000.00</td><td>30001    </td><td>2        </td></tr><tr><td>E1002    </td><td>Alice</td><td>James</td><td>123457   </td><td>1972-07-31</td><td>F</td><td>&quot;980 Berry ln Elgin IL&quot;</td><td>200      </td><td>80000.00</td><td>30002    </td><td>5        </td></tr><tr><td>E1003    </td><td>Steve</td><td>Wells</td><td>123458   </td><td>1980-08-10</td><td>M</td><td>&quot;291 Springs Gary IL&quot;</td><td>300      </td><td>50000.00</td><td>30002    </td><td>5        </td></tr><tr><td>E1004    </td><td>Santosh</td><td>Kumar</td><td>123459   </td><td>1985-07-20</td><td>M</td><td>&quot;511 Aurora Av Aurora IL&quot;</td><td>400      </td><td>60000.00</td><td>30004    </td><td>5        </td></tr><tr><td>E1005    </td><td>Ahmed</td><td>Hussain</td><td>123410   </td><td>1981-01-04</td><td>M</td><td>&quot;216 Oak Tree Geneva IL&quot;</td><td>500      </td><td>70000.00</td><td>30001    </td><td>2        </td></tr><tr><td>E1006    </td><td>Nancy</td><td>Allen</td><td>123411   </td><td>1978-02-06</td><td>F</td><td>&quot;111 Green Pl Elgin IL&quot;</td><td>600      </td><td>90000.00</td><td>30001    </td><td>2        </td></tr><tr><td>E1007    </td><td>Mary</td><td>Thomas</td><td>123412   </td><td>1975-05-05</td><td>F</td><td>&quot;100 Rose Pl Gary IL&quot;</td><td>650      </td><td>65000.00</td><td>30003    </td><td>7        </td></tr><tr><td>E1008    </td><td>Bharath</td><td>Gupta</td><td>123413   </td><td>1985-05-06</td><td>M</td><td>&quot;145 Berry Ln Naperville IL&quot;</td><td>660      </td><td>65000.00</td><td>30003    </td><td>7        </td></tr><tr><td>E1009    </td><td>Andrea</td><td>Jones</td><td>123414   </td><td>1990-07-09</td><td>F</td><td>&quot;120 Fall Creek Gary IL&quot;</td><td>234      </td><td>70000.00</td><td>30003    </td><td>7        </td></tr><tr><td>E1010    </td><td>Ann</td><td>Jacob</td><td>123415   </td><td>1982-03-30</td><td>F</td><td>&quot;111 Britany Springs Elgin IL&quot;</td><td>220      </td><td>70000.00</td><td>30004    </td><td>5        </td></tr></table>"
                    },
                    "metadata": {}
                }
            ],
            "execution_count": 2
        },
        {
            "cell_type": "markdown",
            "source": [
                "2. Problem:\r\n",
                "    Retrieve only the list of employees whose JOB_TITLE is Jr. Designer."
            ],
            "metadata": {
                "azdata_cell_guid": "2171d079-d104-4c40-b7c6-3726ebf561a4"
            }
        },
        {
            "cell_type": "code",
            "source": [
                "SELECT * from EMPLOYEES\r\n",
                "        WHERE JOB_ID IN\r\n",
                "        (select JOB_IDENT FROM JOBS\r\n",
                "                WHERE JOB_TITLE = 'Jr. Designer');"
            ],
            "metadata": {
                "azdata_cell_guid": "fd595dcc-3c28-4f29-b97b-1fe4eb1d3cd0"
            },
            "outputs": [
                {
                    "output_type": "display_data",
                    "data": {
                        "text/html": "(2 rows affected)"
                    },
                    "metadata": {}
                },
                {
                    "output_type": "display_data",
                    "data": {
                        "text/html": "Total execution time: 00:00:00.017"
                    },
                    "metadata": {}
                },
                {
                    "output_type": "execute_result",
                    "execution_count": 3,
                    "data": {
                        "application/vnd.dataresource+json": {
                            "schema": {
                                "fields": [
                                    {
                                        "name": "EMP_ID"
                                    },
                                    {
                                        "name": "F_NAME"
                                    },
                                    {
                                        "name": "L_NAME"
                                    },
                                    {
                                        "name": "SSN"
                                    },
                                    {
                                        "name": "B_DATE"
                                    },
                                    {
                                        "name": "SEX"
                                    },
                                    {
                                        "name": "ADDRESS"
                                    },
                                    {
                                        "name": "JOB_ID"
                                    },
                                    {
                                        "name": "SALARY"
                                    },
                                    {
                                        "name": "MANAGER_ID"
                                    },
                                    {
                                        "name": "DEP_ID"
                                    }
                                ]
                            },
                            "data": [
                                {
                                    "0": "E1007    ",
                                    "1": "Mary",
                                    "2": "Thomas",
                                    "3": "123412   ",
                                    "4": "1975-05-05",
                                    "5": "F",
                                    "6": "\"100 Rose Pl Gary IL\"",
                                    "7": "650      ",
                                    "8": "65000.00",
                                    "9": "30003    ",
                                    "10": "7        "
                                },
                                {
                                    "0": "E1008    ",
                                    "1": "Bharath",
                                    "2": "Gupta",
                                    "3": "123413   ",
                                    "4": "1985-05-06",
                                    "5": "M",
                                    "6": "\"145 Berry Ln Naperville IL\"",
                                    "7": "660      ",
                                    "8": "65000.00",
                                    "9": "30003    ",
                                    "10": "7        "
                                }
                            ]
                        },
                        "text/html": "<table><tr><th>EMP_ID</th><th>F_NAME</th><th>L_NAME</th><th>SSN</th><th>B_DATE</th><th>SEX</th><th>ADDRESS</th><th>JOB_ID</th><th>SALARY</th><th>MANAGER_ID</th><th>DEP_ID</th></tr><tr><td>E1007    </td><td>Mary</td><td>Thomas</td><td>123412   </td><td>1975-05-05</td><td>F</td><td>&quot;100 Rose Pl Gary IL&quot;</td><td>650      </td><td>65000.00</td><td>30003    </td><td>7        </td></tr><tr><td>E1008    </td><td>Bharath</td><td>Gupta</td><td>123413   </td><td>1985-05-06</td><td>M</td><td>&quot;145 Berry Ln Naperville IL&quot;</td><td>660      </td><td>65000.00</td><td>30003    </td><td>7        </td></tr></table>"
                    },
                    "metadata": {}
                }
            ],
            "execution_count": 3
        },
        {
            "cell_type": "markdown",
            "source": [
                "3. Problem: Retrieve JOB information and list of employees who earn more than $70,000."
            ],
            "metadata": {
                "azdata_cell_guid": "3c124cd2-ce25-41e3-9fdc-54874e588abe"
            },
            "attachments": {}
        },
        {
            "cell_type": "code",
            "source": [
                "SELECT * from JOBS\r\n",
                "        WHERE JOB_IDENT IN\r\n",
                "        (select JOB_ID FROM EMPLOYEES\r\n",
                "                WHERE SALARY > 70000);"
            ],
            "metadata": {
                "azdata_cell_guid": "c54f4c2a-550e-4efe-968d-a71a0b7d94e0"
            },
            "outputs": [
                {
                    "output_type": "display_data",
                    "data": {
                        "text/html": "(3 rows affected)"
                    },
                    "metadata": {}
                },
                {
                    "output_type": "display_data",
                    "data": {
                        "text/html": "Total execution time: 00:00:00.008"
                    },
                    "metadata": {}
                },
                {
                    "output_type": "execute_result",
                    "execution_count": 6,
                    "data": {
                        "application/vnd.dataresource+json": {
                            "schema": {
                                "fields": [
                                    {
                                        "name": "JOB_IDENT"
                                    },
                                    {
                                        "name": "JOB_TITLE"
                                    },
                                    {
                                        "name": "MIN_SALARY"
                                    },
                                    {
                                        "name": "MAX_SALARY"
                                    }
                                ]
                            },
                            "data": [
                                {
                                    "0": "100      ",
                                    "1": "Sr. Architect",
                                    "2": "60000.00",
                                    "3": "100000.00"
                                },
                                {
                                    "0": "200      ",
                                    "1": "Sr.Software Dev",
                                    "2": "60000.00",
                                    "3": "80000.00"
                                },
                                {
                                    "0": "600      ",
                                    "1": "Lead Architect",
                                    "2": "70000.00",
                                    "3": "100000.00"
                                }
                            ]
                        },
                        "text/html": "<table><tr><th>JOB_IDENT</th><th>JOB_TITLE</th><th>MIN_SALARY</th><th>MAX_SALARY</th></tr><tr><td>100      </td><td>Sr. Architect</td><td>60000.00</td><td>100000.00</td></tr><tr><td>200      </td><td>Sr.Software Dev</td><td>60000.00</td><td>80000.00</td></tr><tr><td>600      </td><td>Lead Architect</td><td>70000.00</td><td>100000.00</td></tr></table>"
                    },
                    "metadata": {}
                }
            ],
            "execution_count": 6
        },
        {
            "cell_type": "markdown",
            "source": [
                "4. Problem: Retrieve JOB information and list of employees whose birth year is after 1976."
            ],
            "metadata": {
                "azdata_cell_guid": "552c3ac9-f07b-4886-8c74-697ac5338103"
            },
            "attachments": {}
        },
        {
            "cell_type": "code",
            "source": [
                "SELECT * FROM JOBS\r\n",
                "        WHERE JOB_IDENT IN\r\n",
                "        (select JOB_ID from EMPLOYEES\r\n",
                "                WHERE YEAR(B_DATE)>1976);"
            ],
            "metadata": {
                "azdata_cell_guid": "9826983e-c903-4177-893e-45d00ded814f"
            },
            "outputs": [
                {
                    "output_type": "display_data",
                    "data": {
                        "text/html": "(7 rows affected)"
                    },
                    "metadata": {}
                },
                {
                    "output_type": "display_data",
                    "data": {
                        "text/html": "Total execution time: 00:00:00.021"
                    },
                    "metadata": {}
                },
                {
                    "output_type": "execute_result",
                    "execution_count": 11,
                    "data": {
                        "application/vnd.dataresource+json": {
                            "schema": {
                                "fields": [
                                    {
                                        "name": "JOB_IDENT"
                                    },
                                    {
                                        "name": "JOB_TITLE"
                                    },
                                    {
                                        "name": "MIN_SALARY"
                                    },
                                    {
                                        "name": "MAX_SALARY"
                                    }
                                ]
                            },
                            "data": [
                                {
                                    "0": "220      ",
                                    "1": "Sr. Designer",
                                    "2": "70000.00",
                                    "3": "90000.00"
                                },
                                {
                                    "0": "234      ",
                                    "1": "Sr. Designer",
                                    "2": "70000.00",
                                    "3": "90000.00"
                                },
                                {
                                    "0": "300      ",
                                    "1": "Jr.Software Dev",
                                    "2": "40000.00",
                                    "3": "60000.00"
                                },
                                {
                                    "0": "400      ",
                                    "1": "Jr.Software Dev",
                                    "2": "40000.00",
                                    "3": "60000.00"
                                },
                                {
                                    "0": "500      ",
                                    "1": "Jr. Architect",
                                    "2": "50000.00",
                                    "3": "70000.00"
                                },
                                {
                                    "0": "600      ",
                                    "1": "Lead Architect",
                                    "2": "70000.00",
                                    "3": "100000.00"
                                },
                                {
                                    "0": "660      ",
                                    "1": "Jr. Designer",
                                    "2": "60000.00",
                                    "3": "70000.00"
                                }
                            ]
                        },
                        "text/html": "<table><tr><th>JOB_IDENT</th><th>JOB_TITLE</th><th>MIN_SALARY</th><th>MAX_SALARY</th></tr><tr><td>220      </td><td>Sr. Designer</td><td>70000.00</td><td>90000.00</td></tr><tr><td>234      </td><td>Sr. Designer</td><td>70000.00</td><td>90000.00</td></tr><tr><td>300      </td><td>Jr.Software Dev</td><td>40000.00</td><td>60000.00</td></tr><tr><td>400      </td><td>Jr.Software Dev</td><td>40000.00</td><td>60000.00</td></tr><tr><td>500      </td><td>Jr. Architect</td><td>50000.00</td><td>70000.00</td></tr><tr><td>600      </td><td>Lead Architect</td><td>70000.00</td><td>100000.00</td></tr><tr><td>660      </td><td>Jr. Designer</td><td>60000.00</td><td>70000.00</td></tr></table>"
                    },
                    "metadata": {}
                }
            ],
            "execution_count": 11
        },
        {
            "cell_type": "markdown",
            "source": [
                "5. Problem: Retrieve JOB information and list of female employees whose birth year is after 1976."
            ],
            "metadata": {
                "azdata_cell_guid": "8fae0806-1c91-4f98-b6b3-ea4f6a300c75"
            }
        },
        {
            "cell_type": "code",
            "source": [
                "SELECT * FROM JOBS\r\n",
                "        WHERE JOB_IDENT IN\r\n",
                "        (select JOB_ID from EMPLOYEES\r\n",
                "                WHERE YEAR(B_DATE)>1976 AND SEX='F');"
            ],
            "metadata": {
                "azdata_cell_guid": "5f5b75a9-1d0a-4df1-8817-bbdae62b8f1d"
            },
            "outputs": [
                {
                    "output_type": "display_data",
                    "data": {
                        "text/html": "(3 rows affected)"
                    },
                    "metadata": {}
                },
                {
                    "output_type": "display_data",
                    "data": {
                        "text/html": "Total execution time: 00:00:00.019"
                    },
                    "metadata": {}
                },
                {
                    "output_type": "execute_result",
                    "execution_count": 12,
                    "data": {
                        "application/vnd.dataresource+json": {
                            "schema": {
                                "fields": [
                                    {
                                        "name": "JOB_IDENT"
                                    },
                                    {
                                        "name": "JOB_TITLE"
                                    },
                                    {
                                        "name": "MIN_SALARY"
                                    },
                                    {
                                        "name": "MAX_SALARY"
                                    }
                                ]
                            },
                            "data": [
                                {
                                    "0": "220      ",
                                    "1": "Sr. Designer",
                                    "2": "70000.00",
                                    "3": "90000.00"
                                },
                                {
                                    "0": "234      ",
                                    "1": "Sr. Designer",
                                    "2": "70000.00",
                                    "3": "90000.00"
                                },
                                {
                                    "0": "600      ",
                                    "1": "Lead Architect",
                                    "2": "70000.00",
                                    "3": "100000.00"
                                }
                            ]
                        },
                        "text/html": "<table><tr><th>JOB_IDENT</th><th>JOB_TITLE</th><th>MIN_SALARY</th><th>MAX_SALARY</th></tr><tr><td>220      </td><td>Sr. Designer</td><td>70000.00</td><td>90000.00</td></tr><tr><td>234      </td><td>Sr. Designer</td><td>70000.00</td><td>90000.00</td></tr><tr><td>600      </td><td>Lead Architect</td><td>70000.00</td><td>100000.00</td></tr></table>"
                    },
                    "metadata": {}
                }
            ],
            "execution_count": 12
        },
        {
            "cell_type": "markdown",
            "source": [
                "Exercise 2: Accessing Multiple Tables with Implicit Joins\r\n",
                "1. Problem: Perform an implicit cartesian/cross join between EMPLOYEES and JOBS tables."
            ],
            "metadata": {
                "azdata_cell_guid": "50b2cf45-11dc-4f03-939c-adeae1b62f92"
            }
        },
        {
            "cell_type": "code",
            "source": [
                "SELECT * FROM EMPLOYEES, JOBS;"
            ],
            "metadata": {
                "azdata_cell_guid": "ba30a447-6635-4962-9da4-d7b9730c50a8"
            },
            "outputs": [
                {
                    "output_type": "display_data",
                    "data": {
                        "text/html": "(100 rows affected)"
                    },
                    "metadata": {}
                },
                {
                    "output_type": "display_data",
                    "data": {
                        "text/html": "Total execution time: 00:00:00.027"
                    },
                    "metadata": {}
                },
                {
                    "output_type": "execute_result",
                    "execution_count": 14,
                    "data": {
                        "application/vnd.dataresource+json": {
                            "schema": {
                                "fields": [
                                    {
                                        "name": "EMP_ID"
                                    },
                                    {
                                        "name": "F_NAME"
                                    },
                                    {
                                        "name": "L_NAME"
                                    },
                                    {
                                        "name": "SSN"
                                    },
                                    {
                                        "name": "B_DATE"
                                    },
                                    {
                                        "name": "SEX"
                                    },
                                    {
                                        "name": "ADDRESS"
                                    },
                                    {
                                        "name": "JOB_ID"
                                    },
                                    {
                                        "name": "SALARY"
                                    },
                                    {
                                        "name": "MANAGER_ID"
                                    },
                                    {
                                        "name": "DEP_ID"
                                    },
                                    {
                                        "name": "JOB_IDENT"
                                    },
                                    {
                                        "name": "JOB_TITLE"
                                    },
                                    {
                                        "name": "MIN_SALARY"
                                    },
                                    {
                                        "name": "MAX_SALARY"
                                    }
                                ]
                            },
                            "data": [
                                {
                                    "0": "E1001    ",
                                    "1": "John",
                                    "2": "Thomas",
                                    "3": "123456   ",
                                    "4": "1976-01-09",
                                    "5": "M",
                                    "6": "\"5631 Rice OakPark IL\"",
                                    "7": "100      ",
                                    "8": "100000.00",
                                    "9": "30001    ",
                                    "10": "2        ",
                                    "11": "100      ",
                                    "12": "Sr. Architect",
                                    "13": "60000.00",
                                    "14": "100000.00"
                                },
                                {
                                    "0": "E1002    ",
                                    "1": "Alice",
                                    "2": "James",
                                    "3": "123457   ",
                                    "4": "1972-07-31",
                                    "5": "F",
                                    "6": "\"980 Berry ln Elgin IL\"",
                                    "7": "200      ",
                                    "8": "80000.00",
                                    "9": "30002    ",
                                    "10": "5        ",
                                    "11": "100      ",
                                    "12": "Sr. Architect",
                                    "13": "60000.00",
                                    "14": "100000.00"
                                },
                                {
                                    "0": "E1003    ",
                                    "1": "Steve",
                                    "2": "Wells",
                                    "3": "123458   ",
                                    "4": "1980-08-10",
                                    "5": "M",
                                    "6": "\"291 Springs Gary IL\"",
                                    "7": "300      ",
                                    "8": "50000.00",
                                    "9": "30002    ",
                                    "10": "5        ",
                                    "11": "100      ",
                                    "12": "Sr. Architect",
                                    "13": "60000.00",
                                    "14": "100000.00"
                                },
                                {
                                    "0": "E1004    ",
                                    "1": "Santosh",
                                    "2": "Kumar",
                                    "3": "123459   ",
                                    "4": "1985-07-20",
                                    "5": "M",
                                    "6": "\"511 Aurora Av Aurora IL\"",
                                    "7": "400      ",
                                    "8": "60000.00",
                                    "9": "30004    ",
                                    "10": "5        ",
                                    "11": "100      ",
                                    "12": "Sr. Architect",
                                    "13": "60000.00",
                                    "14": "100000.00"
                                },
                                {
                                    "0": "E1005    ",
                                    "1": "Ahmed",
                                    "2": "Hussain",
                                    "3": "123410   ",
                                    "4": "1981-01-04",
                                    "5": "M",
                                    "6": "\"216 Oak Tree Geneva IL\"",
                                    "7": "500      ",
                                    "8": "70000.00",
                                    "9": "30001    ",
                                    "10": "2        ",
                                    "11": "100      ",
                                    "12": "Sr. Architect",
                                    "13": "60000.00",
                                    "14": "100000.00"
                                },
                                {
                                    "0": "E1006    ",
                                    "1": "Nancy",
                                    "2": "Allen",
                                    "3": "123411   ",
                                    "4": "1978-02-06",
                                    "5": "F",
                                    "6": "\"111 Green Pl Elgin IL\"",
                                    "7": "600      ",
                                    "8": "90000.00",
                                    "9": "30001    ",
                                    "10": "2        ",
                                    "11": "100      ",
                                    "12": "Sr. Architect",
                                    "13": "60000.00",
                                    "14": "100000.00"
                                },
                                {
                                    "0": "E1007    ",
                                    "1": "Mary",
                                    "2": "Thomas",
                                    "3": "123412   ",
                                    "4": "1975-05-05",
                                    "5": "F",
                                    "6": "\"100 Rose Pl Gary IL\"",
                                    "7": "650      ",
                                    "8": "65000.00",
                                    "9": "30003    ",
                                    "10": "7        ",
                                    "11": "100      ",
                                    "12": "Sr. Architect",
                                    "13": "60000.00",
                                    "14": "100000.00"
                                },
                                {
                                    "0": "E1008    ",
                                    "1": "Bharath",
                                    "2": "Gupta",
                                    "3": "123413   ",
                                    "4": "1985-05-06",
                                    "5": "M",
                                    "6": "\"145 Berry Ln Naperville IL\"",
                                    "7": "660      ",
                                    "8": "65000.00",
                                    "9": "30003    ",
                                    "10": "7        ",
                                    "11": "100      ",
                                    "12": "Sr. Architect",
                                    "13": "60000.00",
                                    "14": "100000.00"
                                },
                                {
                                    "0": "E1009    ",
                                    "1": "Andrea",
                                    "2": "Jones",
                                    "3": "123414   ",
                                    "4": "1990-07-09",
                                    "5": "F",
                                    "6": "\"120 Fall Creek Gary IL\"",
                                    "7": "234      ",
                                    "8": "70000.00",
                                    "9": "30003    ",
                                    "10": "7        ",
                                    "11": "100      ",
                                    "12": "Sr. Architect",
                                    "13": "60000.00",
                                    "14": "100000.00"
                                },
                                {
                                    "0": "E1010    ",
                                    "1": "Ann",
                                    "2": "Jacob",
                                    "3": "123415   ",
                                    "4": "1982-03-30",
                                    "5": "F",
                                    "6": "\"111 Britany Springs Elgin IL\"",
                                    "7": "220      ",
                                    "8": "70000.00",
                                    "9": "30004    ",
                                    "10": "5        ",
                                    "11": "100      ",
                                    "12": "Sr. Architect",
                                    "13": "60000.00",
                                    "14": "100000.00"
                                },
                                {
                                    "0": "E1001    ",
                                    "1": "John",
                                    "2": "Thomas",
                                    "3": "123456   ",
                                    "4": "1976-01-09",
                                    "5": "M",
                                    "6": "\"5631 Rice OakPark IL\"",
                                    "7": "100      ",
                                    "8": "100000.00",
                                    "9": "30001    ",
                                    "10": "2        ",
                                    "11": "200      ",
                                    "12": "Sr.Software Dev",
                                    "13": "60000.00",
                                    "14": "80000.00"
                                },
                                {
                                    "0": "E1002    ",
                                    "1": "Alice",
                                    "2": "James",
                                    "3": "123457   ",
                                    "4": "1972-07-31",
                                    "5": "F",
                                    "6": "\"980 Berry ln Elgin IL\"",
                                    "7": "200      ",
                                    "8": "80000.00",
                                    "9": "30002    ",
                                    "10": "5        ",
                                    "11": "200      ",
                                    "12": "Sr.Software Dev",
                                    "13": "60000.00",
                                    "14": "80000.00"
                                },
                                {
                                    "0": "E1003    ",
                                    "1": "Steve",
                                    "2": "Wells",
                                    "3": "123458   ",
                                    "4": "1980-08-10",
                                    "5": "M",
                                    "6": "\"291 Springs Gary IL\"",
                                    "7": "300      ",
                                    "8": "50000.00",
                                    "9": "30002    ",
                                    "10": "5        ",
                                    "11": "200      ",
                                    "12": "Sr.Software Dev",
                                    "13": "60000.00",
                                    "14": "80000.00"
                                },
                                {
                                    "0": "E1004    ",
                                    "1": "Santosh",
                                    "2": "Kumar",
                                    "3": "123459   ",
                                    "4": "1985-07-20",
                                    "5": "M",
                                    "6": "\"511 Aurora Av Aurora IL\"",
                                    "7": "400      ",
                                    "8": "60000.00",
                                    "9": "30004    ",
                                    "10": "5        ",
                                    "11": "200      ",
                                    "12": "Sr.Software Dev",
                                    "13": "60000.00",
                                    "14": "80000.00"
                                },
                                {
                                    "0": "E1005    ",
                                    "1": "Ahmed",
                                    "2": "Hussain",
                                    "3": "123410   ",
                                    "4": "1981-01-04",
                                    "5": "M",
                                    "6": "\"216 Oak Tree Geneva IL\"",
                                    "7": "500      ",
                                    "8": "70000.00",
                                    "9": "30001    ",
                                    "10": "2        ",
                                    "11": "200      ",
                                    "12": "Sr.Software Dev",
                                    "13": "60000.00",
                                    "14": "80000.00"
                                },
                                {
                                    "0": "E1006    ",
                                    "1": "Nancy",
                                    "2": "Allen",
                                    "3": "123411   ",
                                    "4": "1978-02-06",
                                    "5": "F",
                                    "6": "\"111 Green Pl Elgin IL\"",
                                    "7": "600      ",
                                    "8": "90000.00",
                                    "9": "30001    ",
                                    "10": "2        ",
                                    "11": "200      ",
                                    "12": "Sr.Software Dev",
                                    "13": "60000.00",
                                    "14": "80000.00"
                                },
                                {
                                    "0": "E1007    ",
                                    "1": "Mary",
                                    "2": "Thomas",
                                    "3": "123412   ",
                                    "4": "1975-05-05",
                                    "5": "F",
                                    "6": "\"100 Rose Pl Gary IL\"",
                                    "7": "650      ",
                                    "8": "65000.00",
                                    "9": "30003    ",
                                    "10": "7        ",
                                    "11": "200      ",
                                    "12": "Sr.Software Dev",
                                    "13": "60000.00",
                                    "14": "80000.00"
                                },
                                {
                                    "0": "E1008    ",
                                    "1": "Bharath",
                                    "2": "Gupta",
                                    "3": "123413   ",
                                    "4": "1985-05-06",
                                    "5": "M",
                                    "6": "\"145 Berry Ln Naperville IL\"",
                                    "7": "660      ",
                                    "8": "65000.00",
                                    "9": "30003    ",
                                    "10": "7        ",
                                    "11": "200      ",
                                    "12": "Sr.Software Dev",
                                    "13": "60000.00",
                                    "14": "80000.00"
                                },
                                {
                                    "0": "E1009    ",
                                    "1": "Andrea",
                                    "2": "Jones",
                                    "3": "123414   ",
                                    "4": "1990-07-09",
                                    "5": "F",
                                    "6": "\"120 Fall Creek Gary IL\"",
                                    "7": "234      ",
                                    "8": "70000.00",
                                    "9": "30003    ",
                                    "10": "7        ",
                                    "11": "200      ",
                                    "12": "Sr.Software Dev",
                                    "13": "60000.00",
                                    "14": "80000.00"
                                },
                                {
                                    "0": "E1010    ",
                                    "1": "Ann",
                                    "2": "Jacob",
                                    "3": "123415   ",
                                    "4": "1982-03-30",
                                    "5": "F",
                                    "6": "\"111 Britany Springs Elgin IL\"",
                                    "7": "220      ",
                                    "8": "70000.00",
                                    "9": "30004    ",
                                    "10": "5        ",
                                    "11": "200      ",
                                    "12": "Sr.Software Dev",
                                    "13": "60000.00",
                                    "14": "80000.00"
                                },
                                {
                                    "0": "E1001    ",
                                    "1": "John",
                                    "2": "Thomas",
                                    "3": "123456   ",
                                    "4": "1976-01-09",
                                    "5": "M",
                                    "6": "\"5631 Rice OakPark IL\"",
                                    "7": "100      ",
                                    "8": "100000.00",
                                    "9": "30001    ",
                                    "10": "2        ",
                                    "11": "220      ",
                                    "12": "Sr. Designer",
                                    "13": "70000.00",
                                    "14": "90000.00"
                                },
                                {
                                    "0": "E1002    ",
                                    "1": "Alice",
                                    "2": "James",
                                    "3": "123457   ",
                                    "4": "1972-07-31",
                                    "5": "F",
                                    "6": "\"980 Berry ln Elgin IL\"",
                                    "7": "200      ",
                                    "8": "80000.00",
                                    "9": "30002    ",
                                    "10": "5        ",
                                    "11": "220      ",
                                    "12": "Sr. Designer",
                                    "13": "70000.00",
                                    "14": "90000.00"
                                },
                                {
                                    "0": "E1003    ",
                                    "1": "Steve",
                                    "2": "Wells",
                                    "3": "123458   ",
                                    "4": "1980-08-10",
                                    "5": "M",
                                    "6": "\"291 Springs Gary IL\"",
                                    "7": "300      ",
                                    "8": "50000.00",
                                    "9": "30002    ",
                                    "10": "5        ",
                                    "11": "220      ",
                                    "12": "Sr. Designer",
                                    "13": "70000.00",
                                    "14": "90000.00"
                                },
                                {
                                    "0": "E1004    ",
                                    "1": "Santosh",
                                    "2": "Kumar",
                                    "3": "123459   ",
                                    "4": "1985-07-20",
                                    "5": "M",
                                    "6": "\"511 Aurora Av Aurora IL\"",
                                    "7": "400      ",
                                    "8": "60000.00",
                                    "9": "30004    ",
                                    "10": "5        ",
                                    "11": "220      ",
                                    "12": "Sr. Designer",
                                    "13": "70000.00",
                                    "14": "90000.00"
                                },
                                {
                                    "0": "E1005    ",
                                    "1": "Ahmed",
                                    "2": "Hussain",
                                    "3": "123410   ",
                                    "4": "1981-01-04",
                                    "5": "M",
                                    "6": "\"216 Oak Tree Geneva IL\"",
                                    "7": "500      ",
                                    "8": "70000.00",
                                    "9": "30001    ",
                                    "10": "2        ",
                                    "11": "220      ",
                                    "12": "Sr. Designer",
                                    "13": "70000.00",
                                    "14": "90000.00"
                                },
                                {
                                    "0": "E1006    ",
                                    "1": "Nancy",
                                    "2": "Allen",
                                    "3": "123411   ",
                                    "4": "1978-02-06",
                                    "5": "F",
                                    "6": "\"111 Green Pl Elgin IL\"",
                                    "7": "600      ",
                                    "8": "90000.00",
                                    "9": "30001    ",
                                    "10": "2        ",
                                    "11": "220      ",
                                    "12": "Sr. Designer",
                                    "13": "70000.00",
                                    "14": "90000.00"
                                },
                                {
                                    "0": "E1007    ",
                                    "1": "Mary",
                                    "2": "Thomas",
                                    "3": "123412   ",
                                    "4": "1975-05-05",
                                    "5": "F",
                                    "6": "\"100 Rose Pl Gary IL\"",
                                    "7": "650      ",
                                    "8": "65000.00",
                                    "9": "30003    ",
                                    "10": "7        ",
                                    "11": "220      ",
                                    "12": "Sr. Designer",
                                    "13": "70000.00",
                                    "14": "90000.00"
                                },
                                {
                                    "0": "E1008    ",
                                    "1": "Bharath",
                                    "2": "Gupta",
                                    "3": "123413   ",
                                    "4": "1985-05-06",
                                    "5": "M",
                                    "6": "\"145 Berry Ln Naperville IL\"",
                                    "7": "660      ",
                                    "8": "65000.00",
                                    "9": "30003    ",
                                    "10": "7        ",
                                    "11": "220      ",
                                    "12": "Sr. Designer",
                                    "13": "70000.00",
                                    "14": "90000.00"
                                },
                                {
                                    "0": "E1009    ",
                                    "1": "Andrea",
                                    "2": "Jones",
                                    "3": "123414   ",
                                    "4": "1990-07-09",
                                    "5": "F",
                                    "6": "\"120 Fall Creek Gary IL\"",
                                    "7": "234      ",
                                    "8": "70000.00",
                                    "9": "30003    ",
                                    "10": "7        ",
                                    "11": "220      ",
                                    "12": "Sr. Designer",
                                    "13": "70000.00",
                                    "14": "90000.00"
                                },
                                {
                                    "0": "E1010    ",
                                    "1": "Ann",
                                    "2": "Jacob",
                                    "3": "123415   ",
                                    "4": "1982-03-30",
                                    "5": "F",
                                    "6": "\"111 Britany Springs Elgin IL\"",
                                    "7": "220      ",
                                    "8": "70000.00",
                                    "9": "30004    ",
                                    "10": "5        ",
                                    "11": "220      ",
                                    "12": "Sr. Designer",
                                    "13": "70000.00",
                                    "14": "90000.00"
                                },
                                {
                                    "0": "E1001    ",
                                    "1": "John",
                                    "2": "Thomas",
                                    "3": "123456   ",
                                    "4": "1976-01-09",
                                    "5": "M",
                                    "6": "\"5631 Rice OakPark IL\"",
                                    "7": "100      ",
                                    "8": "100000.00",
                                    "9": "30001    ",
                                    "10": "2        ",
                                    "11": "234      ",
                                    "12": "Sr. Designer",
                                    "13": "70000.00",
                                    "14": "90000.00"
                                },
                                {
                                    "0": "E1002    ",
                                    "1": "Alice",
                                    "2": "James",
                                    "3": "123457   ",
                                    "4": "1972-07-31",
                                    "5": "F",
                                    "6": "\"980 Berry ln Elgin IL\"",
                                    "7": "200      ",
                                    "8": "80000.00",
                                    "9": "30002    ",
                                    "10": "5        ",
                                    "11": "234      ",
                                    "12": "Sr. Designer",
                                    "13": "70000.00",
                                    "14": "90000.00"
                                },
                                {
                                    "0": "E1003    ",
                                    "1": "Steve",
                                    "2": "Wells",
                                    "3": "123458   ",
                                    "4": "1980-08-10",
                                    "5": "M",
                                    "6": "\"291 Springs Gary IL\"",
                                    "7": "300      ",
                                    "8": "50000.00",
                                    "9": "30002    ",
                                    "10": "5        ",
                                    "11": "234      ",
                                    "12": "Sr. Designer",
                                    "13": "70000.00",
                                    "14": "90000.00"
                                },
                                {
                                    "0": "E1004    ",
                                    "1": "Santosh",
                                    "2": "Kumar",
                                    "3": "123459   ",
                                    "4": "1985-07-20",
                                    "5": "M",
                                    "6": "\"511 Aurora Av Aurora IL\"",
                                    "7": "400      ",
                                    "8": "60000.00",
                                    "9": "30004    ",
                                    "10": "5        ",
                                    "11": "234      ",
                                    "12": "Sr. Designer",
                                    "13": "70000.00",
                                    "14": "90000.00"
                                },
                                {
                                    "0": "E1005    ",
                                    "1": "Ahmed",
                                    "2": "Hussain",
                                    "3": "123410   ",
                                    "4": "1981-01-04",
                                    "5": "M",
                                    "6": "\"216 Oak Tree Geneva IL\"",
                                    "7": "500      ",
                                    "8": "70000.00",
                                    "9": "30001    ",
                                    "10": "2        ",
                                    "11": "234      ",
                                    "12": "Sr. Designer",
                                    "13": "70000.00",
                                    "14": "90000.00"
                                },
                                {
                                    "0": "E1006    ",
                                    "1": "Nancy",
                                    "2": "Allen",
                                    "3": "123411   ",
                                    "4": "1978-02-06",
                                    "5": "F",
                                    "6": "\"111 Green Pl Elgin IL\"",
                                    "7": "600      ",
                                    "8": "90000.00",
                                    "9": "30001    ",
                                    "10": "2        ",
                                    "11": "234      ",
                                    "12": "Sr. Designer",
                                    "13": "70000.00",
                                    "14": "90000.00"
                                },
                                {
                                    "0": "E1007    ",
                                    "1": "Mary",
                                    "2": "Thomas",
                                    "3": "123412   ",
                                    "4": "1975-05-05",
                                    "5": "F",
                                    "6": "\"100 Rose Pl Gary IL\"",
                                    "7": "650      ",
                                    "8": "65000.00",
                                    "9": "30003    ",
                                    "10": "7        ",
                                    "11": "234      ",
                                    "12": "Sr. Designer",
                                    "13": "70000.00",
                                    "14": "90000.00"
                                },
                                {
                                    "0": "E1008    ",
                                    "1": "Bharath",
                                    "2": "Gupta",
                                    "3": "123413   ",
                                    "4": "1985-05-06",
                                    "5": "M",
                                    "6": "\"145 Berry Ln Naperville IL\"",
                                    "7": "660      ",
                                    "8": "65000.00",
                                    "9": "30003    ",
                                    "10": "7        ",
                                    "11": "234      ",
                                    "12": "Sr. Designer",
                                    "13": "70000.00",
                                    "14": "90000.00"
                                },
                                {
                                    "0": "E1009    ",
                                    "1": "Andrea",
                                    "2": "Jones",
                                    "3": "123414   ",
                                    "4": "1990-07-09",
                                    "5": "F",
                                    "6": "\"120 Fall Creek Gary IL\"",
                                    "7": "234      ",
                                    "8": "70000.00",
                                    "9": "30003    ",
                                    "10": "7        ",
                                    "11": "234      ",
                                    "12": "Sr. Designer",
                                    "13": "70000.00",
                                    "14": "90000.00"
                                },
                                {
                                    "0": "E1010    ",
                                    "1": "Ann",
                                    "2": "Jacob",
                                    "3": "123415   ",
                                    "4": "1982-03-30",
                                    "5": "F",
                                    "6": "\"111 Britany Springs Elgin IL\"",
                                    "7": "220      ",
                                    "8": "70000.00",
                                    "9": "30004    ",
                                    "10": "5        ",
                                    "11": "234      ",
                                    "12": "Sr. Designer",
                                    "13": "70000.00",
                                    "14": "90000.00"
                                },
                                {
                                    "0": "E1001    ",
                                    "1": "John",
                                    "2": "Thomas",
                                    "3": "123456   ",
                                    "4": "1976-01-09",
                                    "5": "M",
                                    "6": "\"5631 Rice OakPark IL\"",
                                    "7": "100      ",
                                    "8": "100000.00",
                                    "9": "30001    ",
                                    "10": "2        ",
                                    "11": "300      ",
                                    "12": "Jr.Software Dev",
                                    "13": "40000.00",
                                    "14": "60000.00"
                                },
                                {
                                    "0": "E1002    ",
                                    "1": "Alice",
                                    "2": "James",
                                    "3": "123457   ",
                                    "4": "1972-07-31",
                                    "5": "F",
                                    "6": "\"980 Berry ln Elgin IL\"",
                                    "7": "200      ",
                                    "8": "80000.00",
                                    "9": "30002    ",
                                    "10": "5        ",
                                    "11": "300      ",
                                    "12": "Jr.Software Dev",
                                    "13": "40000.00",
                                    "14": "60000.00"
                                },
                                {
                                    "0": "E1003    ",
                                    "1": "Steve",
                                    "2": "Wells",
                                    "3": "123458   ",
                                    "4": "1980-08-10",
                                    "5": "M",
                                    "6": "\"291 Springs Gary IL\"",
                                    "7": "300      ",
                                    "8": "50000.00",
                                    "9": "30002    ",
                                    "10": "5        ",
                                    "11": "300      ",
                                    "12": "Jr.Software Dev",
                                    "13": "40000.00",
                                    "14": "60000.00"
                                },
                                {
                                    "0": "E1004    ",
                                    "1": "Santosh",
                                    "2": "Kumar",
                                    "3": "123459   ",
                                    "4": "1985-07-20",
                                    "5": "M",
                                    "6": "\"511 Aurora Av Aurora IL\"",
                                    "7": "400      ",
                                    "8": "60000.00",
                                    "9": "30004    ",
                                    "10": "5        ",
                                    "11": "300      ",
                                    "12": "Jr.Software Dev",
                                    "13": "40000.00",
                                    "14": "60000.00"
                                },
                                {
                                    "0": "E1005    ",
                                    "1": "Ahmed",
                                    "2": "Hussain",
                                    "3": "123410   ",
                                    "4": "1981-01-04",
                                    "5": "M",
                                    "6": "\"216 Oak Tree Geneva IL\"",
                                    "7": "500      ",
                                    "8": "70000.00",
                                    "9": "30001    ",
                                    "10": "2        ",
                                    "11": "300      ",
                                    "12": "Jr.Software Dev",
                                    "13": "40000.00",
                                    "14": "60000.00"
                                },
                                {
                                    "0": "E1006    ",
                                    "1": "Nancy",
                                    "2": "Allen",
                                    "3": "123411   ",
                                    "4": "1978-02-06",
                                    "5": "F",
                                    "6": "\"111 Green Pl Elgin IL\"",
                                    "7": "600      ",
                                    "8": "90000.00",
                                    "9": "30001    ",
                                    "10": "2        ",
                                    "11": "300      ",
                                    "12": "Jr.Software Dev",
                                    "13": "40000.00",
                                    "14": "60000.00"
                                },
                                {
                                    "0": "E1007    ",
                                    "1": "Mary",
                                    "2": "Thomas",
                                    "3": "123412   ",
                                    "4": "1975-05-05",
                                    "5": "F",
                                    "6": "\"100 Rose Pl Gary IL\"",
                                    "7": "650      ",
                                    "8": "65000.00",
                                    "9": "30003    ",
                                    "10": "7        ",
                                    "11": "300      ",
                                    "12": "Jr.Software Dev",
                                    "13": "40000.00",
                                    "14": "60000.00"
                                },
                                {
                                    "0": "E1008    ",
                                    "1": "Bharath",
                                    "2": "Gupta",
                                    "3": "123413   ",
                                    "4": "1985-05-06",
                                    "5": "M",
                                    "6": "\"145 Berry Ln Naperville IL\"",
                                    "7": "660      ",
                                    "8": "65000.00",
                                    "9": "30003    ",
                                    "10": "7        ",
                                    "11": "300      ",
                                    "12": "Jr.Software Dev",
                                    "13": "40000.00",
                                    "14": "60000.00"
                                },
                                {
                                    "0": "E1009    ",
                                    "1": "Andrea",
                                    "2": "Jones",
                                    "3": "123414   ",
                                    "4": "1990-07-09",
                                    "5": "F",
                                    "6": "\"120 Fall Creek Gary IL\"",
                                    "7": "234      ",
                                    "8": "70000.00",
                                    "9": "30003    ",
                                    "10": "7        ",
                                    "11": "300      ",
                                    "12": "Jr.Software Dev",
                                    "13": "40000.00",
                                    "14": "60000.00"
                                },
                                {
                                    "0": "E1010    ",
                                    "1": "Ann",
                                    "2": "Jacob",
                                    "3": "123415   ",
                                    "4": "1982-03-30",
                                    "5": "F",
                                    "6": "\"111 Britany Springs Elgin IL\"",
                                    "7": "220      ",
                                    "8": "70000.00",
                                    "9": "30004    ",
                                    "10": "5        ",
                                    "11": "300      ",
                                    "12": "Jr.Software Dev",
                                    "13": "40000.00",
                                    "14": "60000.00"
                                },
                                {
                                    "0": "E1001    ",
                                    "1": "John",
                                    "2": "Thomas",
                                    "3": "123456   ",
                                    "4": "1976-01-09",
                                    "5": "M",
                                    "6": "\"5631 Rice OakPark IL\"",
                                    "7": "100      ",
                                    "8": "100000.00",
                                    "9": "30001    ",
                                    "10": "2        ",
                                    "11": "400      ",
                                    "12": "Jr.Software Dev",
                                    "13": "40000.00",
                                    "14": "60000.00"
                                },
                                {
                                    "0": "E1002    ",
                                    "1": "Alice",
                                    "2": "James",
                                    "3": "123457   ",
                                    "4": "1972-07-31",
                                    "5": "F",
                                    "6": "\"980 Berry ln Elgin IL\"",
                                    "7": "200      ",
                                    "8": "80000.00",
                                    "9": "30002    ",
                                    "10": "5        ",
                                    "11": "400      ",
                                    "12": "Jr.Software Dev",
                                    "13": "40000.00",
                                    "14": "60000.00"
                                },
                                {
                                    "0": "E1003    ",
                                    "1": "Steve",
                                    "2": "Wells",
                                    "3": "123458   ",
                                    "4": "1980-08-10",
                                    "5": "M",
                                    "6": "\"291 Springs Gary IL\"",
                                    "7": "300      ",
                                    "8": "50000.00",
                                    "9": "30002    ",
                                    "10": "5        ",
                                    "11": "400      ",
                                    "12": "Jr.Software Dev",
                                    "13": "40000.00",
                                    "14": "60000.00"
                                },
                                {
                                    "0": "E1004    ",
                                    "1": "Santosh",
                                    "2": "Kumar",
                                    "3": "123459   ",
                                    "4": "1985-07-20",
                                    "5": "M",
                                    "6": "\"511 Aurora Av Aurora IL\"",
                                    "7": "400      ",
                                    "8": "60000.00",
                                    "9": "30004    ",
                                    "10": "5        ",
                                    "11": "400      ",
                                    "12": "Jr.Software Dev",
                                    "13": "40000.00",
                                    "14": "60000.00"
                                },
                                {
                                    "0": "E1005    ",
                                    "1": "Ahmed",
                                    "2": "Hussain",
                                    "3": "123410   ",
                                    "4": "1981-01-04",
                                    "5": "M",
                                    "6": "\"216 Oak Tree Geneva IL\"",
                                    "7": "500      ",
                                    "8": "70000.00",
                                    "9": "30001    ",
                                    "10": "2        ",
                                    "11": "400      ",
                                    "12": "Jr.Software Dev",
                                    "13": "40000.00",
                                    "14": "60000.00"
                                },
                                {
                                    "0": "E1006    ",
                                    "1": "Nancy",
                                    "2": "Allen",
                                    "3": "123411   ",
                                    "4": "1978-02-06",
                                    "5": "F",
                                    "6": "\"111 Green Pl Elgin IL\"",
                                    "7": "600      ",
                                    "8": "90000.00",
                                    "9": "30001    ",
                                    "10": "2        ",
                                    "11": "400      ",
                                    "12": "Jr.Software Dev",
                                    "13": "40000.00",
                                    "14": "60000.00"
                                },
                                {
                                    "0": "E1007    ",
                                    "1": "Mary",
                                    "2": "Thomas",
                                    "3": "123412   ",
                                    "4": "1975-05-05",
                                    "5": "F",
                                    "6": "\"100 Rose Pl Gary IL\"",
                                    "7": "650      ",
                                    "8": "65000.00",
                                    "9": "30003    ",
                                    "10": "7        ",
                                    "11": "400      ",
                                    "12": "Jr.Software Dev",
                                    "13": "40000.00",
                                    "14": "60000.00"
                                },
                                {
                                    "0": "E1008    ",
                                    "1": "Bharath",
                                    "2": "Gupta",
                                    "3": "123413   ",
                                    "4": "1985-05-06",
                                    "5": "M",
                                    "6": "\"145 Berry Ln Naperville IL\"",
                                    "7": "660      ",
                                    "8": "65000.00",
                                    "9": "30003    ",
                                    "10": "7        ",
                                    "11": "400      ",
                                    "12": "Jr.Software Dev",
                                    "13": "40000.00",
                                    "14": "60000.00"
                                },
                                {
                                    "0": "E1009    ",
                                    "1": "Andrea",
                                    "2": "Jones",
                                    "3": "123414   ",
                                    "4": "1990-07-09",
                                    "5": "F",
                                    "6": "\"120 Fall Creek Gary IL\"",
                                    "7": "234      ",
                                    "8": "70000.00",
                                    "9": "30003    ",
                                    "10": "7        ",
                                    "11": "400      ",
                                    "12": "Jr.Software Dev",
                                    "13": "40000.00",
                                    "14": "60000.00"
                                },
                                {
                                    "0": "E1010    ",
                                    "1": "Ann",
                                    "2": "Jacob",
                                    "3": "123415   ",
                                    "4": "1982-03-30",
                                    "5": "F",
                                    "6": "\"111 Britany Springs Elgin IL\"",
                                    "7": "220      ",
                                    "8": "70000.00",
                                    "9": "30004    ",
                                    "10": "5        ",
                                    "11": "400      ",
                                    "12": "Jr.Software Dev",
                                    "13": "40000.00",
                                    "14": "60000.00"
                                },
                                {
                                    "0": "E1001    ",
                                    "1": "John",
                                    "2": "Thomas",
                                    "3": "123456   ",
                                    "4": "1976-01-09",
                                    "5": "M",
                                    "6": "\"5631 Rice OakPark IL\"",
                                    "7": "100      ",
                                    "8": "100000.00",
                                    "9": "30001    ",
                                    "10": "2        ",
                                    "11": "500      ",
                                    "12": "Jr. Architect",
                                    "13": "50000.00",
                                    "14": "70000.00"
                                },
                                {
                                    "0": "E1002    ",
                                    "1": "Alice",
                                    "2": "James",
                                    "3": "123457   ",
                                    "4": "1972-07-31",
                                    "5": "F",
                                    "6": "\"980 Berry ln Elgin IL\"",
                                    "7": "200      ",
                                    "8": "80000.00",
                                    "9": "30002    ",
                                    "10": "5        ",
                                    "11": "500      ",
                                    "12": "Jr. Architect",
                                    "13": "50000.00",
                                    "14": "70000.00"
                                },
                                {
                                    "0": "E1003    ",
                                    "1": "Steve",
                                    "2": "Wells",
                                    "3": "123458   ",
                                    "4": "1980-08-10",
                                    "5": "M",
                                    "6": "\"291 Springs Gary IL\"",
                                    "7": "300      ",
                                    "8": "50000.00",
                                    "9": "30002    ",
                                    "10": "5        ",
                                    "11": "500      ",
                                    "12": "Jr. Architect",
                                    "13": "50000.00",
                                    "14": "70000.00"
                                },
                                {
                                    "0": "E1004    ",
                                    "1": "Santosh",
                                    "2": "Kumar",
                                    "3": "123459   ",
                                    "4": "1985-07-20",
                                    "5": "M",
                                    "6": "\"511 Aurora Av Aurora IL\"",
                                    "7": "400      ",
                                    "8": "60000.00",
                                    "9": "30004    ",
                                    "10": "5        ",
                                    "11": "500      ",
                                    "12": "Jr. Architect",
                                    "13": "50000.00",
                                    "14": "70000.00"
                                },
                                {
                                    "0": "E1005    ",
                                    "1": "Ahmed",
                                    "2": "Hussain",
                                    "3": "123410   ",
                                    "4": "1981-01-04",
                                    "5": "M",
                                    "6": "\"216 Oak Tree Geneva IL\"",
                                    "7": "500      ",
                                    "8": "70000.00",
                                    "9": "30001    ",
                                    "10": "2        ",
                                    "11": "500      ",
                                    "12": "Jr. Architect",
                                    "13": "50000.00",
                                    "14": "70000.00"
                                },
                                {
                                    "0": "E1006    ",
                                    "1": "Nancy",
                                    "2": "Allen",
                                    "3": "123411   ",
                                    "4": "1978-02-06",
                                    "5": "F",
                                    "6": "\"111 Green Pl Elgin IL\"",
                                    "7": "600      ",
                                    "8": "90000.00",
                                    "9": "30001    ",
                                    "10": "2        ",
                                    "11": "500      ",
                                    "12": "Jr. Architect",
                                    "13": "50000.00",
                                    "14": "70000.00"
                                },
                                {
                                    "0": "E1007    ",
                                    "1": "Mary",
                                    "2": "Thomas",
                                    "3": "123412   ",
                                    "4": "1975-05-05",
                                    "5": "F",
                                    "6": "\"100 Rose Pl Gary IL\"",
                                    "7": "650      ",
                                    "8": "65000.00",
                                    "9": "30003    ",
                                    "10": "7        ",
                                    "11": "500      ",
                                    "12": "Jr. Architect",
                                    "13": "50000.00",
                                    "14": "70000.00"
                                },
                                {
                                    "0": "E1008    ",
                                    "1": "Bharath",
                                    "2": "Gupta",
                                    "3": "123413   ",
                                    "4": "1985-05-06",
                                    "5": "M",
                                    "6": "\"145 Berry Ln Naperville IL\"",
                                    "7": "660      ",
                                    "8": "65000.00",
                                    "9": "30003    ",
                                    "10": "7        ",
                                    "11": "500      ",
                                    "12": "Jr. Architect",
                                    "13": "50000.00",
                                    "14": "70000.00"
                                },
                                {
                                    "0": "E1009    ",
                                    "1": "Andrea",
                                    "2": "Jones",
                                    "3": "123414   ",
                                    "4": "1990-07-09",
                                    "5": "F",
                                    "6": "\"120 Fall Creek Gary IL\"",
                                    "7": "234      ",
                                    "8": "70000.00",
                                    "9": "30003    ",
                                    "10": "7        ",
                                    "11": "500      ",
                                    "12": "Jr. Architect",
                                    "13": "50000.00",
                                    "14": "70000.00"
                                },
                                {
                                    "0": "E1010    ",
                                    "1": "Ann",
                                    "2": "Jacob",
                                    "3": "123415   ",
                                    "4": "1982-03-30",
                                    "5": "F",
                                    "6": "\"111 Britany Springs Elgin IL\"",
                                    "7": "220      ",
                                    "8": "70000.00",
                                    "9": "30004    ",
                                    "10": "5        ",
                                    "11": "500      ",
                                    "12": "Jr. Architect",
                                    "13": "50000.00",
                                    "14": "70000.00"
                                },
                                {
                                    "0": "E1001    ",
                                    "1": "John",
                                    "2": "Thomas",
                                    "3": "123456   ",
                                    "4": "1976-01-09",
                                    "5": "M",
                                    "6": "\"5631 Rice OakPark IL\"",
                                    "7": "100      ",
                                    "8": "100000.00",
                                    "9": "30001    ",
                                    "10": "2        ",
                                    "11": "600      ",
                                    "12": "Lead Architect",
                                    "13": "70000.00",
                                    "14": "100000.00"
                                },
                                {
                                    "0": "E1002    ",
                                    "1": "Alice",
                                    "2": "James",
                                    "3": "123457   ",
                                    "4": "1972-07-31",
                                    "5": "F",
                                    "6": "\"980 Berry ln Elgin IL\"",
                                    "7": "200      ",
                                    "8": "80000.00",
                                    "9": "30002    ",
                                    "10": "5        ",
                                    "11": "600      ",
                                    "12": "Lead Architect",
                                    "13": "70000.00",
                                    "14": "100000.00"
                                },
                                {
                                    "0": "E1003    ",
                                    "1": "Steve",
                                    "2": "Wells",
                                    "3": "123458   ",
                                    "4": "1980-08-10",
                                    "5": "M",
                                    "6": "\"291 Springs Gary IL\"",
                                    "7": "300      ",
                                    "8": "50000.00",
                                    "9": "30002    ",
                                    "10": "5        ",
                                    "11": "600      ",
                                    "12": "Lead Architect",
                                    "13": "70000.00",
                                    "14": "100000.00"
                                },
                                {
                                    "0": "E1004    ",
                                    "1": "Santosh",
                                    "2": "Kumar",
                                    "3": "123459   ",
                                    "4": "1985-07-20",
                                    "5": "M",
                                    "6": "\"511 Aurora Av Aurora IL\"",
                                    "7": "400      ",
                                    "8": "60000.00",
                                    "9": "30004    ",
                                    "10": "5        ",
                                    "11": "600      ",
                                    "12": "Lead Architect",
                                    "13": "70000.00",
                                    "14": "100000.00"
                                },
                                {
                                    "0": "E1005    ",
                                    "1": "Ahmed",
                                    "2": "Hussain",
                                    "3": "123410   ",
                                    "4": "1981-01-04",
                                    "5": "M",
                                    "6": "\"216 Oak Tree Geneva IL\"",
                                    "7": "500      ",
                                    "8": "70000.00",
                                    "9": "30001    ",
                                    "10": "2        ",
                                    "11": "600      ",
                                    "12": "Lead Architect",
                                    "13": "70000.00",
                                    "14": "100000.00"
                                },
                                {
                                    "0": "E1006    ",
                                    "1": "Nancy",
                                    "2": "Allen",
                                    "3": "123411   ",
                                    "4": "1978-02-06",
                                    "5": "F",
                                    "6": "\"111 Green Pl Elgin IL\"",
                                    "7": "600      ",
                                    "8": "90000.00",
                                    "9": "30001    ",
                                    "10": "2        ",
                                    "11": "600      ",
                                    "12": "Lead Architect",
                                    "13": "70000.00",
                                    "14": "100000.00"
                                },
                                {
                                    "0": "E1007    ",
                                    "1": "Mary",
                                    "2": "Thomas",
                                    "3": "123412   ",
                                    "4": "1975-05-05",
                                    "5": "F",
                                    "6": "\"100 Rose Pl Gary IL\"",
                                    "7": "650      ",
                                    "8": "65000.00",
                                    "9": "30003    ",
                                    "10": "7        ",
                                    "11": "600      ",
                                    "12": "Lead Architect",
                                    "13": "70000.00",
                                    "14": "100000.00"
                                },
                                {
                                    "0": "E1008    ",
                                    "1": "Bharath",
                                    "2": "Gupta",
                                    "3": "123413   ",
                                    "4": "1985-05-06",
                                    "5": "M",
                                    "6": "\"145 Berry Ln Naperville IL\"",
                                    "7": "660      ",
                                    "8": "65000.00",
                                    "9": "30003    ",
                                    "10": "7        ",
                                    "11": "600      ",
                                    "12": "Lead Architect",
                                    "13": "70000.00",
                                    "14": "100000.00"
                                },
                                {
                                    "0": "E1009    ",
                                    "1": "Andrea",
                                    "2": "Jones",
                                    "3": "123414   ",
                                    "4": "1990-07-09",
                                    "5": "F",
                                    "6": "\"120 Fall Creek Gary IL\"",
                                    "7": "234      ",
                                    "8": "70000.00",
                                    "9": "30003    ",
                                    "10": "7        ",
                                    "11": "600      ",
                                    "12": "Lead Architect",
                                    "13": "70000.00",
                                    "14": "100000.00"
                                },
                                {
                                    "0": "E1010    ",
                                    "1": "Ann",
                                    "2": "Jacob",
                                    "3": "123415   ",
                                    "4": "1982-03-30",
                                    "5": "F",
                                    "6": "\"111 Britany Springs Elgin IL\"",
                                    "7": "220      ",
                                    "8": "70000.00",
                                    "9": "30004    ",
                                    "10": "5        ",
                                    "11": "600      ",
                                    "12": "Lead Architect",
                                    "13": "70000.00",
                                    "14": "100000.00"
                                },
                                {
                                    "0": "E1001    ",
                                    "1": "John",
                                    "2": "Thomas",
                                    "3": "123456   ",
                                    "4": "1976-01-09",
                                    "5": "M",
                                    "6": "\"5631 Rice OakPark IL\"",
                                    "7": "100      ",
                                    "8": "100000.00",
                                    "9": "30001    ",
                                    "10": "2        ",
                                    "11": "650      ",
                                    "12": "Jr. Designer",
                                    "13": "60000.00",
                                    "14": "70000.00"
                                },
                                {
                                    "0": "E1002    ",
                                    "1": "Alice",
                                    "2": "James",
                                    "3": "123457   ",
                                    "4": "1972-07-31",
                                    "5": "F",
                                    "6": "\"980 Berry ln Elgin IL\"",
                                    "7": "200      ",
                                    "8": "80000.00",
                                    "9": "30002    ",
                                    "10": "5        ",
                                    "11": "650      ",
                                    "12": "Jr. Designer",
                                    "13": "60000.00",
                                    "14": "70000.00"
                                },
                                {
                                    "0": "E1003    ",
                                    "1": "Steve",
                                    "2": "Wells",
                                    "3": "123458   ",
                                    "4": "1980-08-10",
                                    "5": "M",
                                    "6": "\"291 Springs Gary IL\"",
                                    "7": "300      ",
                                    "8": "50000.00",
                                    "9": "30002    ",
                                    "10": "5        ",
                                    "11": "650      ",
                                    "12": "Jr. Designer",
                                    "13": "60000.00",
                                    "14": "70000.00"
                                },
                                {
                                    "0": "E1004    ",
                                    "1": "Santosh",
                                    "2": "Kumar",
                                    "3": "123459   ",
                                    "4": "1985-07-20",
                                    "5": "M",
                                    "6": "\"511 Aurora Av Aurora IL\"",
                                    "7": "400      ",
                                    "8": "60000.00",
                                    "9": "30004    ",
                                    "10": "5        ",
                                    "11": "650      ",
                                    "12": "Jr. Designer",
                                    "13": "60000.00",
                                    "14": "70000.00"
                                },
                                {
                                    "0": "E1005    ",
                                    "1": "Ahmed",
                                    "2": "Hussain",
                                    "3": "123410   ",
                                    "4": "1981-01-04",
                                    "5": "M",
                                    "6": "\"216 Oak Tree Geneva IL\"",
                                    "7": "500      ",
                                    "8": "70000.00",
                                    "9": "30001    ",
                                    "10": "2        ",
                                    "11": "650      ",
                                    "12": "Jr. Designer",
                                    "13": "60000.00",
                                    "14": "70000.00"
                                },
                                {
                                    "0": "E1006    ",
                                    "1": "Nancy",
                                    "2": "Allen",
                                    "3": "123411   ",
                                    "4": "1978-02-06",
                                    "5": "F",
                                    "6": "\"111 Green Pl Elgin IL\"",
                                    "7": "600      ",
                                    "8": "90000.00",
                                    "9": "30001    ",
                                    "10": "2        ",
                                    "11": "650      ",
                                    "12": "Jr. Designer",
                                    "13": "60000.00",
                                    "14": "70000.00"
                                },
                                {
                                    "0": "E1007    ",
                                    "1": "Mary",
                                    "2": "Thomas",
                                    "3": "123412   ",
                                    "4": "1975-05-05",
                                    "5": "F",
                                    "6": "\"100 Rose Pl Gary IL\"",
                                    "7": "650      ",
                                    "8": "65000.00",
                                    "9": "30003    ",
                                    "10": "7        ",
                                    "11": "650      ",
                                    "12": "Jr. Designer",
                                    "13": "60000.00",
                                    "14": "70000.00"
                                },
                                {
                                    "0": "E1008    ",
                                    "1": "Bharath",
                                    "2": "Gupta",
                                    "3": "123413   ",
                                    "4": "1985-05-06",
                                    "5": "M",
                                    "6": "\"145 Berry Ln Naperville IL\"",
                                    "7": "660      ",
                                    "8": "65000.00",
                                    "9": "30003    ",
                                    "10": "7        ",
                                    "11": "650      ",
                                    "12": "Jr. Designer",
                                    "13": "60000.00",
                                    "14": "70000.00"
                                },
                                {
                                    "0": "E1009    ",
                                    "1": "Andrea",
                                    "2": "Jones",
                                    "3": "123414   ",
                                    "4": "1990-07-09",
                                    "5": "F",
                                    "6": "\"120 Fall Creek Gary IL\"",
                                    "7": "234      ",
                                    "8": "70000.00",
                                    "9": "30003    ",
                                    "10": "7        ",
                                    "11": "650      ",
                                    "12": "Jr. Designer",
                                    "13": "60000.00",
                                    "14": "70000.00"
                                },
                                {
                                    "0": "E1010    ",
                                    "1": "Ann",
                                    "2": "Jacob",
                                    "3": "123415   ",
                                    "4": "1982-03-30",
                                    "5": "F",
                                    "6": "\"111 Britany Springs Elgin IL\"",
                                    "7": "220      ",
                                    "8": "70000.00",
                                    "9": "30004    ",
                                    "10": "5        ",
                                    "11": "650      ",
                                    "12": "Jr. Designer",
                                    "13": "60000.00",
                                    "14": "70000.00"
                                },
                                {
                                    "0": "E1001    ",
                                    "1": "John",
                                    "2": "Thomas",
                                    "3": "123456   ",
                                    "4": "1976-01-09",
                                    "5": "M",
                                    "6": "\"5631 Rice OakPark IL\"",
                                    "7": "100      ",
                                    "8": "100000.00",
                                    "9": "30001    ",
                                    "10": "2        ",
                                    "11": "660      ",
                                    "12": "Jr. Designer",
                                    "13": "60000.00",
                                    "14": "70000.00"
                                },
                                {
                                    "0": "E1002    ",
                                    "1": "Alice",
                                    "2": "James",
                                    "3": "123457   ",
                                    "4": "1972-07-31",
                                    "5": "F",
                                    "6": "\"980 Berry ln Elgin IL\"",
                                    "7": "200      ",
                                    "8": "80000.00",
                                    "9": "30002    ",
                                    "10": "5        ",
                                    "11": "660      ",
                                    "12": "Jr. Designer",
                                    "13": "60000.00",
                                    "14": "70000.00"
                                },
                                {
                                    "0": "E1003    ",
                                    "1": "Steve",
                                    "2": "Wells",
                                    "3": "123458   ",
                                    "4": "1980-08-10",
                                    "5": "M",
                                    "6": "\"291 Springs Gary IL\"",
                                    "7": "300      ",
                                    "8": "50000.00",
                                    "9": "30002    ",
                                    "10": "5        ",
                                    "11": "660      ",
                                    "12": "Jr. Designer",
                                    "13": "60000.00",
                                    "14": "70000.00"
                                },
                                {
                                    "0": "E1004    ",
                                    "1": "Santosh",
                                    "2": "Kumar",
                                    "3": "123459   ",
                                    "4": "1985-07-20",
                                    "5": "M",
                                    "6": "\"511 Aurora Av Aurora IL\"",
                                    "7": "400      ",
                                    "8": "60000.00",
                                    "9": "30004    ",
                                    "10": "5        ",
                                    "11": "660      ",
                                    "12": "Jr. Designer",
                                    "13": "60000.00",
                                    "14": "70000.00"
                                },
                                {
                                    "0": "E1005    ",
                                    "1": "Ahmed",
                                    "2": "Hussain",
                                    "3": "123410   ",
                                    "4": "1981-01-04",
                                    "5": "M",
                                    "6": "\"216 Oak Tree Geneva IL\"",
                                    "7": "500      ",
                                    "8": "70000.00",
                                    "9": "30001    ",
                                    "10": "2        ",
                                    "11": "660      ",
                                    "12": "Jr. Designer",
                                    "13": "60000.00",
                                    "14": "70000.00"
                                },
                                {
                                    "0": "E1006    ",
                                    "1": "Nancy",
                                    "2": "Allen",
                                    "3": "123411   ",
                                    "4": "1978-02-06",
                                    "5": "F",
                                    "6": "\"111 Green Pl Elgin IL\"",
                                    "7": "600      ",
                                    "8": "90000.00",
                                    "9": "30001    ",
                                    "10": "2        ",
                                    "11": "660      ",
                                    "12": "Jr. Designer",
                                    "13": "60000.00",
                                    "14": "70000.00"
                                },
                                {
                                    "0": "E1007    ",
                                    "1": "Mary",
                                    "2": "Thomas",
                                    "3": "123412   ",
                                    "4": "1975-05-05",
                                    "5": "F",
                                    "6": "\"100 Rose Pl Gary IL\"",
                                    "7": "650      ",
                                    "8": "65000.00",
                                    "9": "30003    ",
                                    "10": "7        ",
                                    "11": "660      ",
                                    "12": "Jr. Designer",
                                    "13": "60000.00",
                                    "14": "70000.00"
                                },
                                {
                                    "0": "E1008    ",
                                    "1": "Bharath",
                                    "2": "Gupta",
                                    "3": "123413   ",
                                    "4": "1985-05-06",
                                    "5": "M",
                                    "6": "\"145 Berry Ln Naperville IL\"",
                                    "7": "660      ",
                                    "8": "65000.00",
                                    "9": "30003    ",
                                    "10": "7        ",
                                    "11": "660      ",
                                    "12": "Jr. Designer",
                                    "13": "60000.00",
                                    "14": "70000.00"
                                },
                                {
                                    "0": "E1009    ",
                                    "1": "Andrea",
                                    "2": "Jones",
                                    "3": "123414   ",
                                    "4": "1990-07-09",
                                    "5": "F",
                                    "6": "\"120 Fall Creek Gary IL\"",
                                    "7": "234      ",
                                    "8": "70000.00",
                                    "9": "30003    ",
                                    "10": "7        ",
                                    "11": "660      ",
                                    "12": "Jr. Designer",
                                    "13": "60000.00",
                                    "14": "70000.00"
                                },
                                {
                                    "0": "E1010    ",
                                    "1": "Ann",
                                    "2": "Jacob",
                                    "3": "123415   ",
                                    "4": "1982-03-30",
                                    "5": "F",
                                    "6": "\"111 Britany Springs Elgin IL\"",
                                    "7": "220      ",
                                    "8": "70000.00",
                                    "9": "30004    ",
                                    "10": "5        ",
                                    "11": "660      ",
                                    "12": "Jr. Designer",
                                    "13": "60000.00",
                                    "14": "70000.00"
                                }
                            ]
                        },
                        "text/html": "<table><tr><th>EMP_ID</th><th>F_NAME</th><th>L_NAME</th><th>SSN</th><th>B_DATE</th><th>SEX</th><th>ADDRESS</th><th>JOB_ID</th><th>SALARY</th><th>MANAGER_ID</th><th>DEP_ID</th><th>JOB_IDENT</th><th>JOB_TITLE</th><th>MIN_SALARY</th><th>MAX_SALARY</th></tr><tr><td>E1001    </td><td>John</td><td>Thomas</td><td>123456   </td><td>1976-01-09</td><td>M</td><td>&quot;5631 Rice OakPark IL&quot;</td><td>100      </td><td>100000.00</td><td>30001    </td><td>2        </td><td>100      </td><td>Sr. Architect</td><td>60000.00</td><td>100000.00</td></tr><tr><td>E1002    </td><td>Alice</td><td>James</td><td>123457   </td><td>1972-07-31</td><td>F</td><td>&quot;980 Berry ln Elgin IL&quot;</td><td>200      </td><td>80000.00</td><td>30002    </td><td>5        </td><td>100      </td><td>Sr. Architect</td><td>60000.00</td><td>100000.00</td></tr><tr><td>E1003    </td><td>Steve</td><td>Wells</td><td>123458   </td><td>1980-08-10</td><td>M</td><td>&quot;291 Springs Gary IL&quot;</td><td>300      </td><td>50000.00</td><td>30002    </td><td>5        </td><td>100      </td><td>Sr. Architect</td><td>60000.00</td><td>100000.00</td></tr><tr><td>E1004    </td><td>Santosh</td><td>Kumar</td><td>123459   </td><td>1985-07-20</td><td>M</td><td>&quot;511 Aurora Av Aurora IL&quot;</td><td>400      </td><td>60000.00</td><td>30004    </td><td>5        </td><td>100      </td><td>Sr. Architect</td><td>60000.00</td><td>100000.00</td></tr><tr><td>E1005    </td><td>Ahmed</td><td>Hussain</td><td>123410   </td><td>1981-01-04</td><td>M</td><td>&quot;216 Oak Tree Geneva IL&quot;</td><td>500      </td><td>70000.00</td><td>30001    </td><td>2        </td><td>100      </td><td>Sr. Architect</td><td>60000.00</td><td>100000.00</td></tr><tr><td>E1006    </td><td>Nancy</td><td>Allen</td><td>123411   </td><td>1978-02-06</td><td>F</td><td>&quot;111 Green Pl Elgin IL&quot;</td><td>600      </td><td>90000.00</td><td>30001    </td><td>2        </td><td>100      </td><td>Sr. Architect</td><td>60000.00</td><td>100000.00</td></tr><tr><td>E1007    </td><td>Mary</td><td>Thomas</td><td>123412   </td><td>1975-05-05</td><td>F</td><td>&quot;100 Rose Pl Gary IL&quot;</td><td>650      </td><td>65000.00</td><td>30003    </td><td>7        </td><td>100      </td><td>Sr. Architect</td><td>60000.00</td><td>100000.00</td></tr><tr><td>E1008    </td><td>Bharath</td><td>Gupta</td><td>123413   </td><td>1985-05-06</td><td>M</td><td>&quot;145 Berry Ln Naperville IL&quot;</td><td>660      </td><td>65000.00</td><td>30003    </td><td>7        </td><td>100      </td><td>Sr. Architect</td><td>60000.00</td><td>100000.00</td></tr><tr><td>E1009    </td><td>Andrea</td><td>Jones</td><td>123414   </td><td>1990-07-09</td><td>F</td><td>&quot;120 Fall Creek Gary IL&quot;</td><td>234      </td><td>70000.00</td><td>30003    </td><td>7        </td><td>100      </td><td>Sr. Architect</td><td>60000.00</td><td>100000.00</td></tr><tr><td>E1010    </td><td>Ann</td><td>Jacob</td><td>123415   </td><td>1982-03-30</td><td>F</td><td>&quot;111 Britany Springs Elgin IL&quot;</td><td>220      </td><td>70000.00</td><td>30004    </td><td>5        </td><td>100      </td><td>Sr. Architect</td><td>60000.00</td><td>100000.00</td></tr><tr><td>E1001    </td><td>John</td><td>Thomas</td><td>123456   </td><td>1976-01-09</td><td>M</td><td>&quot;5631 Rice OakPark IL&quot;</td><td>100      </td><td>100000.00</td><td>30001    </td><td>2        </td><td>200      </td><td>Sr.Software Dev</td><td>60000.00</td><td>80000.00</td></tr><tr><td>E1002    </td><td>Alice</td><td>James</td><td>123457   </td><td>1972-07-31</td><td>F</td><td>&quot;980 Berry ln Elgin IL&quot;</td><td>200      </td><td>80000.00</td><td>30002    </td><td>5        </td><td>200      </td><td>Sr.Software Dev</td><td>60000.00</td><td>80000.00</td></tr><tr><td>E1003    </td><td>Steve</td><td>Wells</td><td>123458   </td><td>1980-08-10</td><td>M</td><td>&quot;291 Springs Gary IL&quot;</td><td>300      </td><td>50000.00</td><td>30002    </td><td>5        </td><td>200      </td><td>Sr.Software Dev</td><td>60000.00</td><td>80000.00</td></tr><tr><td>E1004    </td><td>Santosh</td><td>Kumar</td><td>123459   </td><td>1985-07-20</td><td>M</td><td>&quot;511 Aurora Av Aurora IL&quot;</td><td>400      </td><td>60000.00</td><td>30004    </td><td>5        </td><td>200      </td><td>Sr.Software Dev</td><td>60000.00</td><td>80000.00</td></tr><tr><td>E1005    </td><td>Ahmed</td><td>Hussain</td><td>123410   </td><td>1981-01-04</td><td>M</td><td>&quot;216 Oak Tree Geneva IL&quot;</td><td>500      </td><td>70000.00</td><td>30001    </td><td>2        </td><td>200      </td><td>Sr.Software Dev</td><td>60000.00</td><td>80000.00</td></tr><tr><td>E1006    </td><td>Nancy</td><td>Allen</td><td>123411   </td><td>1978-02-06</td><td>F</td><td>&quot;111 Green Pl Elgin IL&quot;</td><td>600      </td><td>90000.00</td><td>30001    </td><td>2        </td><td>200      </td><td>Sr.Software Dev</td><td>60000.00</td><td>80000.00</td></tr><tr><td>E1007    </td><td>Mary</td><td>Thomas</td><td>123412   </td><td>1975-05-05</td><td>F</td><td>&quot;100 Rose Pl Gary IL&quot;</td><td>650      </td><td>65000.00</td><td>30003    </td><td>7        </td><td>200      </td><td>Sr.Software Dev</td><td>60000.00</td><td>80000.00</td></tr><tr><td>E1008    </td><td>Bharath</td><td>Gupta</td><td>123413   </td><td>1985-05-06</td><td>M</td><td>&quot;145 Berry Ln Naperville IL&quot;</td><td>660      </td><td>65000.00</td><td>30003    </td><td>7        </td><td>200      </td><td>Sr.Software Dev</td><td>60000.00</td><td>80000.00</td></tr><tr><td>E1009    </td><td>Andrea</td><td>Jones</td><td>123414   </td><td>1990-07-09</td><td>F</td><td>&quot;120 Fall Creek Gary IL&quot;</td><td>234      </td><td>70000.00</td><td>30003    </td><td>7        </td><td>200      </td><td>Sr.Software Dev</td><td>60000.00</td><td>80000.00</td></tr><tr><td>E1010    </td><td>Ann</td><td>Jacob</td><td>123415   </td><td>1982-03-30</td><td>F</td><td>&quot;111 Britany Springs Elgin IL&quot;</td><td>220      </td><td>70000.00</td><td>30004    </td><td>5        </td><td>200      </td><td>Sr.Software Dev</td><td>60000.00</td><td>80000.00</td></tr><tr><td>E1001    </td><td>John</td><td>Thomas</td><td>123456   </td><td>1976-01-09</td><td>M</td><td>&quot;5631 Rice OakPark IL&quot;</td><td>100      </td><td>100000.00</td><td>30001    </td><td>2        </td><td>220      </td><td>Sr. Designer</td><td>70000.00</td><td>90000.00</td></tr><tr><td>E1002    </td><td>Alice</td><td>James</td><td>123457   </td><td>1972-07-31</td><td>F</td><td>&quot;980 Berry ln Elgin IL&quot;</td><td>200      </td><td>80000.00</td><td>30002    </td><td>5        </td><td>220      </td><td>Sr. Designer</td><td>70000.00</td><td>90000.00</td></tr><tr><td>E1003    </td><td>Steve</td><td>Wells</td><td>123458   </td><td>1980-08-10</td><td>M</td><td>&quot;291 Springs Gary IL&quot;</td><td>300      </td><td>50000.00</td><td>30002    </td><td>5        </td><td>220      </td><td>Sr. Designer</td><td>70000.00</td><td>90000.00</td></tr><tr><td>E1004    </td><td>Santosh</td><td>Kumar</td><td>123459   </td><td>1985-07-20</td><td>M</td><td>&quot;511 Aurora Av Aurora IL&quot;</td><td>400      </td><td>60000.00</td><td>30004    </td><td>5        </td><td>220      </td><td>Sr. Designer</td><td>70000.00</td><td>90000.00</td></tr><tr><td>E1005    </td><td>Ahmed</td><td>Hussain</td><td>123410   </td><td>1981-01-04</td><td>M</td><td>&quot;216 Oak Tree Geneva IL&quot;</td><td>500      </td><td>70000.00</td><td>30001    </td><td>2        </td><td>220      </td><td>Sr. Designer</td><td>70000.00</td><td>90000.00</td></tr><tr><td>E1006    </td><td>Nancy</td><td>Allen</td><td>123411   </td><td>1978-02-06</td><td>F</td><td>&quot;111 Green Pl Elgin IL&quot;</td><td>600      </td><td>90000.00</td><td>30001    </td><td>2        </td><td>220      </td><td>Sr. Designer</td><td>70000.00</td><td>90000.00</td></tr><tr><td>E1007    </td><td>Mary</td><td>Thomas</td><td>123412   </td><td>1975-05-05</td><td>F</td><td>&quot;100 Rose Pl Gary IL&quot;</td><td>650      </td><td>65000.00</td><td>30003    </td><td>7        </td><td>220      </td><td>Sr. Designer</td><td>70000.00</td><td>90000.00</td></tr><tr><td>E1008    </td><td>Bharath</td><td>Gupta</td><td>123413   </td><td>1985-05-06</td><td>M</td><td>&quot;145 Berry Ln Naperville IL&quot;</td><td>660      </td><td>65000.00</td><td>30003    </td><td>7        </td><td>220      </td><td>Sr. Designer</td><td>70000.00</td><td>90000.00</td></tr><tr><td>E1009    </td><td>Andrea</td><td>Jones</td><td>123414   </td><td>1990-07-09</td><td>F</td><td>&quot;120 Fall Creek Gary IL&quot;</td><td>234      </td><td>70000.00</td><td>30003    </td><td>7        </td><td>220      </td><td>Sr. Designer</td><td>70000.00</td><td>90000.00</td></tr><tr><td>E1010    </td><td>Ann</td><td>Jacob</td><td>123415   </td><td>1982-03-30</td><td>F</td><td>&quot;111 Britany Springs Elgin IL&quot;</td><td>220      </td><td>70000.00</td><td>30004    </td><td>5        </td><td>220      </td><td>Sr. Designer</td><td>70000.00</td><td>90000.00</td></tr><tr><td>E1001    </td><td>John</td><td>Thomas</td><td>123456   </td><td>1976-01-09</td><td>M</td><td>&quot;5631 Rice OakPark IL&quot;</td><td>100      </td><td>100000.00</td><td>30001    </td><td>2        </td><td>234      </td><td>Sr. Designer</td><td>70000.00</td><td>90000.00</td></tr><tr><td>E1002    </td><td>Alice</td><td>James</td><td>123457   </td><td>1972-07-31</td><td>F</td><td>&quot;980 Berry ln Elgin IL&quot;</td><td>200      </td><td>80000.00</td><td>30002    </td><td>5        </td><td>234      </td><td>Sr. Designer</td><td>70000.00</td><td>90000.00</td></tr><tr><td>E1003    </td><td>Steve</td><td>Wells</td><td>123458   </td><td>1980-08-10</td><td>M</td><td>&quot;291 Springs Gary IL&quot;</td><td>300      </td><td>50000.00</td><td>30002    </td><td>5        </td><td>234      </td><td>Sr. Designer</td><td>70000.00</td><td>90000.00</td></tr><tr><td>E1004    </td><td>Santosh</td><td>Kumar</td><td>123459   </td><td>1985-07-20</td><td>M</td><td>&quot;511 Aurora Av Aurora IL&quot;</td><td>400      </td><td>60000.00</td><td>30004    </td><td>5        </td><td>234      </td><td>Sr. Designer</td><td>70000.00</td><td>90000.00</td></tr><tr><td>E1005    </td><td>Ahmed</td><td>Hussain</td><td>123410   </td><td>1981-01-04</td><td>M</td><td>&quot;216 Oak Tree Geneva IL&quot;</td><td>500      </td><td>70000.00</td><td>30001    </td><td>2        </td><td>234      </td><td>Sr. Designer</td><td>70000.00</td><td>90000.00</td></tr><tr><td>E1006    </td><td>Nancy</td><td>Allen</td><td>123411   </td><td>1978-02-06</td><td>F</td><td>&quot;111 Green Pl Elgin IL&quot;</td><td>600      </td><td>90000.00</td><td>30001    </td><td>2        </td><td>234      </td><td>Sr. Designer</td><td>70000.00</td><td>90000.00</td></tr><tr><td>E1007    </td><td>Mary</td><td>Thomas</td><td>123412   </td><td>1975-05-05</td><td>F</td><td>&quot;100 Rose Pl Gary IL&quot;</td><td>650      </td><td>65000.00</td><td>30003    </td><td>7        </td><td>234      </td><td>Sr. Designer</td><td>70000.00</td><td>90000.00</td></tr><tr><td>E1008    </td><td>Bharath</td><td>Gupta</td><td>123413   </td><td>1985-05-06</td><td>M</td><td>&quot;145 Berry Ln Naperville IL&quot;</td><td>660      </td><td>65000.00</td><td>30003    </td><td>7        </td><td>234      </td><td>Sr. Designer</td><td>70000.00</td><td>90000.00</td></tr><tr><td>E1009    </td><td>Andrea</td><td>Jones</td><td>123414   </td><td>1990-07-09</td><td>F</td><td>&quot;120 Fall Creek Gary IL&quot;</td><td>234      </td><td>70000.00</td><td>30003    </td><td>7        </td><td>234      </td><td>Sr. Designer</td><td>70000.00</td><td>90000.00</td></tr><tr><td>E1010    </td><td>Ann</td><td>Jacob</td><td>123415   </td><td>1982-03-30</td><td>F</td><td>&quot;111 Britany Springs Elgin IL&quot;</td><td>220      </td><td>70000.00</td><td>30004    </td><td>5        </td><td>234      </td><td>Sr. Designer</td><td>70000.00</td><td>90000.00</td></tr><tr><td>E1001    </td><td>John</td><td>Thomas</td><td>123456   </td><td>1976-01-09</td><td>M</td><td>&quot;5631 Rice OakPark IL&quot;</td><td>100      </td><td>100000.00</td><td>30001    </td><td>2        </td><td>300      </td><td>Jr.Software Dev</td><td>40000.00</td><td>60000.00</td></tr><tr><td>E1002    </td><td>Alice</td><td>James</td><td>123457   </td><td>1972-07-31</td><td>F</td><td>&quot;980 Berry ln Elgin IL&quot;</td><td>200      </td><td>80000.00</td><td>30002    </td><td>5        </td><td>300      </td><td>Jr.Software Dev</td><td>40000.00</td><td>60000.00</td></tr><tr><td>E1003    </td><td>Steve</td><td>Wells</td><td>123458   </td><td>1980-08-10</td><td>M</td><td>&quot;291 Springs Gary IL&quot;</td><td>300      </td><td>50000.00</td><td>30002    </td><td>5        </td><td>300      </td><td>Jr.Software Dev</td><td>40000.00</td><td>60000.00</td></tr><tr><td>E1004    </td><td>Santosh</td><td>Kumar</td><td>123459   </td><td>1985-07-20</td><td>M</td><td>&quot;511 Aurora Av Aurora IL&quot;</td><td>400      </td><td>60000.00</td><td>30004    </td><td>5        </td><td>300      </td><td>Jr.Software Dev</td><td>40000.00</td><td>60000.00</td></tr><tr><td>E1005    </td><td>Ahmed</td><td>Hussain</td><td>123410   </td><td>1981-01-04</td><td>M</td><td>&quot;216 Oak Tree Geneva IL&quot;</td><td>500      </td><td>70000.00</td><td>30001    </td><td>2        </td><td>300      </td><td>Jr.Software Dev</td><td>40000.00</td><td>60000.00</td></tr><tr><td>E1006    </td><td>Nancy</td><td>Allen</td><td>123411   </td><td>1978-02-06</td><td>F</td><td>&quot;111 Green Pl Elgin IL&quot;</td><td>600      </td><td>90000.00</td><td>30001    </td><td>2        </td><td>300      </td><td>Jr.Software Dev</td><td>40000.00</td><td>60000.00</td></tr><tr><td>E1007    </td><td>Mary</td><td>Thomas</td><td>123412   </td><td>1975-05-05</td><td>F</td><td>&quot;100 Rose Pl Gary IL&quot;</td><td>650      </td><td>65000.00</td><td>30003    </td><td>7        </td><td>300      </td><td>Jr.Software Dev</td><td>40000.00</td><td>60000.00</td></tr><tr><td>E1008    </td><td>Bharath</td><td>Gupta</td><td>123413   </td><td>1985-05-06</td><td>M</td><td>&quot;145 Berry Ln Naperville IL&quot;</td><td>660      </td><td>65000.00</td><td>30003    </td><td>7        </td><td>300      </td><td>Jr.Software Dev</td><td>40000.00</td><td>60000.00</td></tr><tr><td>E1009    </td><td>Andrea</td><td>Jones</td><td>123414   </td><td>1990-07-09</td><td>F</td><td>&quot;120 Fall Creek Gary IL&quot;</td><td>234      </td><td>70000.00</td><td>30003    </td><td>7        </td><td>300      </td><td>Jr.Software Dev</td><td>40000.00</td><td>60000.00</td></tr><tr><td>E1010    </td><td>Ann</td><td>Jacob</td><td>123415   </td><td>1982-03-30</td><td>F</td><td>&quot;111 Britany Springs Elgin IL&quot;</td><td>220      </td><td>70000.00</td><td>30004    </td><td>5        </td><td>300      </td><td>Jr.Software Dev</td><td>40000.00</td><td>60000.00</td></tr><tr><td>E1001    </td><td>John</td><td>Thomas</td><td>123456   </td><td>1976-01-09</td><td>M</td><td>&quot;5631 Rice OakPark IL&quot;</td><td>100      </td><td>100000.00</td><td>30001    </td><td>2        </td><td>400      </td><td>Jr.Software Dev</td><td>40000.00</td><td>60000.00</td></tr><tr><td>E1002    </td><td>Alice</td><td>James</td><td>123457   </td><td>1972-07-31</td><td>F</td><td>&quot;980 Berry ln Elgin IL&quot;</td><td>200      </td><td>80000.00</td><td>30002    </td><td>5        </td><td>400      </td><td>Jr.Software Dev</td><td>40000.00</td><td>60000.00</td></tr><tr><td>E1003    </td><td>Steve</td><td>Wells</td><td>123458   </td><td>1980-08-10</td><td>M</td><td>&quot;291 Springs Gary IL&quot;</td><td>300      </td><td>50000.00</td><td>30002    </td><td>5        </td><td>400      </td><td>Jr.Software Dev</td><td>40000.00</td><td>60000.00</td></tr><tr><td>E1004    </td><td>Santosh</td><td>Kumar</td><td>123459   </td><td>1985-07-20</td><td>M</td><td>&quot;511 Aurora Av Aurora IL&quot;</td><td>400      </td><td>60000.00</td><td>30004    </td><td>5        </td><td>400      </td><td>Jr.Software Dev</td><td>40000.00</td><td>60000.00</td></tr><tr><td>E1005    </td><td>Ahmed</td><td>Hussain</td><td>123410   </td><td>1981-01-04</td><td>M</td><td>&quot;216 Oak Tree Geneva IL&quot;</td><td>500      </td><td>70000.00</td><td>30001    </td><td>2        </td><td>400      </td><td>Jr.Software Dev</td><td>40000.00</td><td>60000.00</td></tr><tr><td>E1006    </td><td>Nancy</td><td>Allen</td><td>123411   </td><td>1978-02-06</td><td>F</td><td>&quot;111 Green Pl Elgin IL&quot;</td><td>600      </td><td>90000.00</td><td>30001    </td><td>2        </td><td>400      </td><td>Jr.Software Dev</td><td>40000.00</td><td>60000.00</td></tr><tr><td>E1007    </td><td>Mary</td><td>Thomas</td><td>123412   </td><td>1975-05-05</td><td>F</td><td>&quot;100 Rose Pl Gary IL&quot;</td><td>650      </td><td>65000.00</td><td>30003    </td><td>7        </td><td>400      </td><td>Jr.Software Dev</td><td>40000.00</td><td>60000.00</td></tr><tr><td>E1008    </td><td>Bharath</td><td>Gupta</td><td>123413   </td><td>1985-05-06</td><td>M</td><td>&quot;145 Berry Ln Naperville IL&quot;</td><td>660      </td><td>65000.00</td><td>30003    </td><td>7        </td><td>400      </td><td>Jr.Software Dev</td><td>40000.00</td><td>60000.00</td></tr><tr><td>E1009    </td><td>Andrea</td><td>Jones</td><td>123414   </td><td>1990-07-09</td><td>F</td><td>&quot;120 Fall Creek Gary IL&quot;</td><td>234      </td><td>70000.00</td><td>30003    </td><td>7        </td><td>400      </td><td>Jr.Software Dev</td><td>40000.00</td><td>60000.00</td></tr><tr><td>E1010    </td><td>Ann</td><td>Jacob</td><td>123415   </td><td>1982-03-30</td><td>F</td><td>&quot;111 Britany Springs Elgin IL&quot;</td><td>220      </td><td>70000.00</td><td>30004    </td><td>5        </td><td>400      </td><td>Jr.Software Dev</td><td>40000.00</td><td>60000.00</td></tr><tr><td>E1001    </td><td>John</td><td>Thomas</td><td>123456   </td><td>1976-01-09</td><td>M</td><td>&quot;5631 Rice OakPark IL&quot;</td><td>100      </td><td>100000.00</td><td>30001    </td><td>2        </td><td>500      </td><td>Jr. Architect</td><td>50000.00</td><td>70000.00</td></tr><tr><td>E1002    </td><td>Alice</td><td>James</td><td>123457   </td><td>1972-07-31</td><td>F</td><td>&quot;980 Berry ln Elgin IL&quot;</td><td>200      </td><td>80000.00</td><td>30002    </td><td>5        </td><td>500      </td><td>Jr. Architect</td><td>50000.00</td><td>70000.00</td></tr><tr><td>E1003    </td><td>Steve</td><td>Wells</td><td>123458   </td><td>1980-08-10</td><td>M</td><td>&quot;291 Springs Gary IL&quot;</td><td>300      </td><td>50000.00</td><td>30002    </td><td>5        </td><td>500      </td><td>Jr. Architect</td><td>50000.00</td><td>70000.00</td></tr><tr><td>E1004    </td><td>Santosh</td><td>Kumar</td><td>123459   </td><td>1985-07-20</td><td>M</td><td>&quot;511 Aurora Av Aurora IL&quot;</td><td>400      </td><td>60000.00</td><td>30004    </td><td>5        </td><td>500      </td><td>Jr. Architect</td><td>50000.00</td><td>70000.00</td></tr><tr><td>E1005    </td><td>Ahmed</td><td>Hussain</td><td>123410   </td><td>1981-01-04</td><td>M</td><td>&quot;216 Oak Tree Geneva IL&quot;</td><td>500      </td><td>70000.00</td><td>30001    </td><td>2        </td><td>500      </td><td>Jr. Architect</td><td>50000.00</td><td>70000.00</td></tr><tr><td>E1006    </td><td>Nancy</td><td>Allen</td><td>123411   </td><td>1978-02-06</td><td>F</td><td>&quot;111 Green Pl Elgin IL&quot;</td><td>600      </td><td>90000.00</td><td>30001    </td><td>2        </td><td>500      </td><td>Jr. Architect</td><td>50000.00</td><td>70000.00</td></tr><tr><td>E1007    </td><td>Mary</td><td>Thomas</td><td>123412   </td><td>1975-05-05</td><td>F</td><td>&quot;100 Rose Pl Gary IL&quot;</td><td>650      </td><td>65000.00</td><td>30003    </td><td>7        </td><td>500      </td><td>Jr. Architect</td><td>50000.00</td><td>70000.00</td></tr><tr><td>E1008    </td><td>Bharath</td><td>Gupta</td><td>123413   </td><td>1985-05-06</td><td>M</td><td>&quot;145 Berry Ln Naperville IL&quot;</td><td>660      </td><td>65000.00</td><td>30003    </td><td>7        </td><td>500      </td><td>Jr. Architect</td><td>50000.00</td><td>70000.00</td></tr><tr><td>E1009    </td><td>Andrea</td><td>Jones</td><td>123414   </td><td>1990-07-09</td><td>F</td><td>&quot;120 Fall Creek Gary IL&quot;</td><td>234      </td><td>70000.00</td><td>30003    </td><td>7        </td><td>500      </td><td>Jr. Architect</td><td>50000.00</td><td>70000.00</td></tr><tr><td>E1010    </td><td>Ann</td><td>Jacob</td><td>123415   </td><td>1982-03-30</td><td>F</td><td>&quot;111 Britany Springs Elgin IL&quot;</td><td>220      </td><td>70000.00</td><td>30004    </td><td>5        </td><td>500      </td><td>Jr. Architect</td><td>50000.00</td><td>70000.00</td></tr><tr><td>E1001    </td><td>John</td><td>Thomas</td><td>123456   </td><td>1976-01-09</td><td>M</td><td>&quot;5631 Rice OakPark IL&quot;</td><td>100      </td><td>100000.00</td><td>30001    </td><td>2        </td><td>600      </td><td>Lead Architect</td><td>70000.00</td><td>100000.00</td></tr><tr><td>E1002    </td><td>Alice</td><td>James</td><td>123457   </td><td>1972-07-31</td><td>F</td><td>&quot;980 Berry ln Elgin IL&quot;</td><td>200      </td><td>80000.00</td><td>30002    </td><td>5        </td><td>600      </td><td>Lead Architect</td><td>70000.00</td><td>100000.00</td></tr><tr><td>E1003    </td><td>Steve</td><td>Wells</td><td>123458   </td><td>1980-08-10</td><td>M</td><td>&quot;291 Springs Gary IL&quot;</td><td>300      </td><td>50000.00</td><td>30002    </td><td>5        </td><td>600      </td><td>Lead Architect</td><td>70000.00</td><td>100000.00</td></tr><tr><td>E1004    </td><td>Santosh</td><td>Kumar</td><td>123459   </td><td>1985-07-20</td><td>M</td><td>&quot;511 Aurora Av Aurora IL&quot;</td><td>400      </td><td>60000.00</td><td>30004    </td><td>5        </td><td>600      </td><td>Lead Architect</td><td>70000.00</td><td>100000.00</td></tr><tr><td>E1005    </td><td>Ahmed</td><td>Hussain</td><td>123410   </td><td>1981-01-04</td><td>M</td><td>&quot;216 Oak Tree Geneva IL&quot;</td><td>500      </td><td>70000.00</td><td>30001    </td><td>2        </td><td>600      </td><td>Lead Architect</td><td>70000.00</td><td>100000.00</td></tr><tr><td>E1006    </td><td>Nancy</td><td>Allen</td><td>123411   </td><td>1978-02-06</td><td>F</td><td>&quot;111 Green Pl Elgin IL&quot;</td><td>600      </td><td>90000.00</td><td>30001    </td><td>2        </td><td>600      </td><td>Lead Architect</td><td>70000.00</td><td>100000.00</td></tr><tr><td>E1007    </td><td>Mary</td><td>Thomas</td><td>123412   </td><td>1975-05-05</td><td>F</td><td>&quot;100 Rose Pl Gary IL&quot;</td><td>650      </td><td>65000.00</td><td>30003    </td><td>7        </td><td>600      </td><td>Lead Architect</td><td>70000.00</td><td>100000.00</td></tr><tr><td>E1008    </td><td>Bharath</td><td>Gupta</td><td>123413   </td><td>1985-05-06</td><td>M</td><td>&quot;145 Berry Ln Naperville IL&quot;</td><td>660      </td><td>65000.00</td><td>30003    </td><td>7        </td><td>600      </td><td>Lead Architect</td><td>70000.00</td><td>100000.00</td></tr><tr><td>E1009    </td><td>Andrea</td><td>Jones</td><td>123414   </td><td>1990-07-09</td><td>F</td><td>&quot;120 Fall Creek Gary IL&quot;</td><td>234      </td><td>70000.00</td><td>30003    </td><td>7        </td><td>600      </td><td>Lead Architect</td><td>70000.00</td><td>100000.00</td></tr><tr><td>E1010    </td><td>Ann</td><td>Jacob</td><td>123415   </td><td>1982-03-30</td><td>F</td><td>&quot;111 Britany Springs Elgin IL&quot;</td><td>220      </td><td>70000.00</td><td>30004    </td><td>5        </td><td>600      </td><td>Lead Architect</td><td>70000.00</td><td>100000.00</td></tr><tr><td>E1001    </td><td>John</td><td>Thomas</td><td>123456   </td><td>1976-01-09</td><td>M</td><td>&quot;5631 Rice OakPark IL&quot;</td><td>100      </td><td>100000.00</td><td>30001    </td><td>2        </td><td>650      </td><td>Jr. Designer</td><td>60000.00</td><td>70000.00</td></tr><tr><td>E1002    </td><td>Alice</td><td>James</td><td>123457   </td><td>1972-07-31</td><td>F</td><td>&quot;980 Berry ln Elgin IL&quot;</td><td>200      </td><td>80000.00</td><td>30002    </td><td>5        </td><td>650      </td><td>Jr. Designer</td><td>60000.00</td><td>70000.00</td></tr><tr><td>E1003    </td><td>Steve</td><td>Wells</td><td>123458   </td><td>1980-08-10</td><td>M</td><td>&quot;291 Springs Gary IL&quot;</td><td>300      </td><td>50000.00</td><td>30002    </td><td>5        </td><td>650      </td><td>Jr. Designer</td><td>60000.00</td><td>70000.00</td></tr><tr><td>E1004    </td><td>Santosh</td><td>Kumar</td><td>123459   </td><td>1985-07-20</td><td>M</td><td>&quot;511 Aurora Av Aurora IL&quot;</td><td>400      </td><td>60000.00</td><td>30004    </td><td>5        </td><td>650      </td><td>Jr. Designer</td><td>60000.00</td><td>70000.00</td></tr><tr><td>E1005    </td><td>Ahmed</td><td>Hussain</td><td>123410   </td><td>1981-01-04</td><td>M</td><td>&quot;216 Oak Tree Geneva IL&quot;</td><td>500      </td><td>70000.00</td><td>30001    </td><td>2        </td><td>650      </td><td>Jr. Designer</td><td>60000.00</td><td>70000.00</td></tr><tr><td>E1006    </td><td>Nancy</td><td>Allen</td><td>123411   </td><td>1978-02-06</td><td>F</td><td>&quot;111 Green Pl Elgin IL&quot;</td><td>600      </td><td>90000.00</td><td>30001    </td><td>2        </td><td>650      </td><td>Jr. Designer</td><td>60000.00</td><td>70000.00</td></tr><tr><td>E1007    </td><td>Mary</td><td>Thomas</td><td>123412   </td><td>1975-05-05</td><td>F</td><td>&quot;100 Rose Pl Gary IL&quot;</td><td>650      </td><td>65000.00</td><td>30003    </td><td>7        </td><td>650      </td><td>Jr. Designer</td><td>60000.00</td><td>70000.00</td></tr><tr><td>E1008    </td><td>Bharath</td><td>Gupta</td><td>123413   </td><td>1985-05-06</td><td>M</td><td>&quot;145 Berry Ln Naperville IL&quot;</td><td>660      </td><td>65000.00</td><td>30003    </td><td>7        </td><td>650      </td><td>Jr. Designer</td><td>60000.00</td><td>70000.00</td></tr><tr><td>E1009    </td><td>Andrea</td><td>Jones</td><td>123414   </td><td>1990-07-09</td><td>F</td><td>&quot;120 Fall Creek Gary IL&quot;</td><td>234      </td><td>70000.00</td><td>30003    </td><td>7        </td><td>650      </td><td>Jr. Designer</td><td>60000.00</td><td>70000.00</td></tr><tr><td>E1010    </td><td>Ann</td><td>Jacob</td><td>123415   </td><td>1982-03-30</td><td>F</td><td>&quot;111 Britany Springs Elgin IL&quot;</td><td>220      </td><td>70000.00</td><td>30004    </td><td>5        </td><td>650      </td><td>Jr. Designer</td><td>60000.00</td><td>70000.00</td></tr><tr><td>E1001    </td><td>John</td><td>Thomas</td><td>123456   </td><td>1976-01-09</td><td>M</td><td>&quot;5631 Rice OakPark IL&quot;</td><td>100      </td><td>100000.00</td><td>30001    </td><td>2        </td><td>660      </td><td>Jr. Designer</td><td>60000.00</td><td>70000.00</td></tr><tr><td>E1002    </td><td>Alice</td><td>James</td><td>123457   </td><td>1972-07-31</td><td>F</td><td>&quot;980 Berry ln Elgin IL&quot;</td><td>200      </td><td>80000.00</td><td>30002    </td><td>5        </td><td>660      </td><td>Jr. Designer</td><td>60000.00</td><td>70000.00</td></tr><tr><td>E1003    </td><td>Steve</td><td>Wells</td><td>123458   </td><td>1980-08-10</td><td>M</td><td>&quot;291 Springs Gary IL&quot;</td><td>300      </td><td>50000.00</td><td>30002    </td><td>5        </td><td>660      </td><td>Jr. Designer</td><td>60000.00</td><td>70000.00</td></tr><tr><td>E1004    </td><td>Santosh</td><td>Kumar</td><td>123459   </td><td>1985-07-20</td><td>M</td><td>&quot;511 Aurora Av Aurora IL&quot;</td><td>400      </td><td>60000.00</td><td>30004    </td><td>5        </td><td>660      </td><td>Jr. Designer</td><td>60000.00</td><td>70000.00</td></tr><tr><td>E1005    </td><td>Ahmed</td><td>Hussain</td><td>123410   </td><td>1981-01-04</td><td>M</td><td>&quot;216 Oak Tree Geneva IL&quot;</td><td>500      </td><td>70000.00</td><td>30001    </td><td>2        </td><td>660      </td><td>Jr. Designer</td><td>60000.00</td><td>70000.00</td></tr><tr><td>E1006    </td><td>Nancy</td><td>Allen</td><td>123411   </td><td>1978-02-06</td><td>F</td><td>&quot;111 Green Pl Elgin IL&quot;</td><td>600      </td><td>90000.00</td><td>30001    </td><td>2        </td><td>660      </td><td>Jr. Designer</td><td>60000.00</td><td>70000.00</td></tr><tr><td>E1007    </td><td>Mary</td><td>Thomas</td><td>123412   </td><td>1975-05-05</td><td>F</td><td>&quot;100 Rose Pl Gary IL&quot;</td><td>650      </td><td>65000.00</td><td>30003    </td><td>7        </td><td>660      </td><td>Jr. Designer</td><td>60000.00</td><td>70000.00</td></tr><tr><td>E1008    </td><td>Bharath</td><td>Gupta</td><td>123413   </td><td>1985-05-06</td><td>M</td><td>&quot;145 Berry Ln Naperville IL&quot;</td><td>660      </td><td>65000.00</td><td>30003    </td><td>7        </td><td>660      </td><td>Jr. Designer</td><td>60000.00</td><td>70000.00</td></tr><tr><td>E1009    </td><td>Andrea</td><td>Jones</td><td>123414   </td><td>1990-07-09</td><td>F</td><td>&quot;120 Fall Creek Gary IL&quot;</td><td>234      </td><td>70000.00</td><td>30003    </td><td>7        </td><td>660      </td><td>Jr. Designer</td><td>60000.00</td><td>70000.00</td></tr><tr><td>E1010    </td><td>Ann</td><td>Jacob</td><td>123415   </td><td>1982-03-30</td><td>F</td><td>&quot;111 Britany Springs Elgin IL&quot;</td><td>220      </td><td>70000.00</td><td>30004    </td><td>5        </td><td>660      </td><td>Jr. Designer</td><td>60000.00</td><td>70000.00</td></tr></table>"
                    },
                    "metadata": {}
                }
            ],
            "execution_count": 14
        },
        {
            "cell_type": "markdown",
            "source": [
                "2. Problem: Retrieve only the EMPLOYEES records that correspond to jobs in the JOBS table."
            ],
            "metadata": {
                "azdata_cell_guid": "c3306412-a435-4596-9b01-372296101e1d"
            }
        },
        {
            "cell_type": "code",
            "source": [
                "SELECT * FROM EMPLOYEES, JOBS\r\n",
                "        WHERE EMPLOYEES.JOB_ID = JOBS.JOB_IDENT;"
            ],
            "metadata": {
                "azdata_cell_guid": "dcc1f170-a177-42b6-b0f0-42a6f8ffe644"
            },
            "outputs": [
                {
                    "output_type": "display_data",
                    "data": {
                        "text/html": "(10 rows affected)"
                    },
                    "metadata": {}
                },
                {
                    "output_type": "display_data",
                    "data": {
                        "text/html": "Total execution time: 00:00:00.008"
                    },
                    "metadata": {}
                },
                {
                    "output_type": "execute_result",
                    "execution_count": 16,
                    "data": {
                        "application/vnd.dataresource+json": {
                            "schema": {
                                "fields": [
                                    {
                                        "name": "EMP_ID"
                                    },
                                    {
                                        "name": "F_NAME"
                                    },
                                    {
                                        "name": "L_NAME"
                                    },
                                    {
                                        "name": "SSN"
                                    },
                                    {
                                        "name": "B_DATE"
                                    },
                                    {
                                        "name": "SEX"
                                    },
                                    {
                                        "name": "ADDRESS"
                                    },
                                    {
                                        "name": "JOB_ID"
                                    },
                                    {
                                        "name": "SALARY"
                                    },
                                    {
                                        "name": "MANAGER_ID"
                                    },
                                    {
                                        "name": "DEP_ID"
                                    },
                                    {
                                        "name": "JOB_IDENT"
                                    },
                                    {
                                        "name": "JOB_TITLE"
                                    },
                                    {
                                        "name": "MIN_SALARY"
                                    },
                                    {
                                        "name": "MAX_SALARY"
                                    }
                                ]
                            },
                            "data": [
                                {
                                    "0": "E1001    ",
                                    "1": "John",
                                    "2": "Thomas",
                                    "3": "123456   ",
                                    "4": "1976-01-09",
                                    "5": "M",
                                    "6": "\"5631 Rice OakPark IL\"",
                                    "7": "100      ",
                                    "8": "100000.00",
                                    "9": "30001    ",
                                    "10": "2        ",
                                    "11": "100      ",
                                    "12": "Sr. Architect",
                                    "13": "60000.00",
                                    "14": "100000.00"
                                },
                                {
                                    "0": "E1002    ",
                                    "1": "Alice",
                                    "2": "James",
                                    "3": "123457   ",
                                    "4": "1972-07-31",
                                    "5": "F",
                                    "6": "\"980 Berry ln Elgin IL\"",
                                    "7": "200      ",
                                    "8": "80000.00",
                                    "9": "30002    ",
                                    "10": "5        ",
                                    "11": "200      ",
                                    "12": "Sr.Software Dev",
                                    "13": "60000.00",
                                    "14": "80000.00"
                                },
                                {
                                    "0": "E1003    ",
                                    "1": "Steve",
                                    "2": "Wells",
                                    "3": "123458   ",
                                    "4": "1980-08-10",
                                    "5": "M",
                                    "6": "\"291 Springs Gary IL\"",
                                    "7": "300      ",
                                    "8": "50000.00",
                                    "9": "30002    ",
                                    "10": "5        ",
                                    "11": "300      ",
                                    "12": "Jr.Software Dev",
                                    "13": "40000.00",
                                    "14": "60000.00"
                                },
                                {
                                    "0": "E1004    ",
                                    "1": "Santosh",
                                    "2": "Kumar",
                                    "3": "123459   ",
                                    "4": "1985-07-20",
                                    "5": "M",
                                    "6": "\"511 Aurora Av Aurora IL\"",
                                    "7": "400      ",
                                    "8": "60000.00",
                                    "9": "30004    ",
                                    "10": "5        ",
                                    "11": "400      ",
                                    "12": "Jr.Software Dev",
                                    "13": "40000.00",
                                    "14": "60000.00"
                                },
                                {
                                    "0": "E1005    ",
                                    "1": "Ahmed",
                                    "2": "Hussain",
                                    "3": "123410   ",
                                    "4": "1981-01-04",
                                    "5": "M",
                                    "6": "\"216 Oak Tree Geneva IL\"",
                                    "7": "500      ",
                                    "8": "70000.00",
                                    "9": "30001    ",
                                    "10": "2        ",
                                    "11": "500      ",
                                    "12": "Jr. Architect",
                                    "13": "50000.00",
                                    "14": "70000.00"
                                },
                                {
                                    "0": "E1006    ",
                                    "1": "Nancy",
                                    "2": "Allen",
                                    "3": "123411   ",
                                    "4": "1978-02-06",
                                    "5": "F",
                                    "6": "\"111 Green Pl Elgin IL\"",
                                    "7": "600      ",
                                    "8": "90000.00",
                                    "9": "30001    ",
                                    "10": "2        ",
                                    "11": "600      ",
                                    "12": "Lead Architect",
                                    "13": "70000.00",
                                    "14": "100000.00"
                                },
                                {
                                    "0": "E1007    ",
                                    "1": "Mary",
                                    "2": "Thomas",
                                    "3": "123412   ",
                                    "4": "1975-05-05",
                                    "5": "F",
                                    "6": "\"100 Rose Pl Gary IL\"",
                                    "7": "650      ",
                                    "8": "65000.00",
                                    "9": "30003    ",
                                    "10": "7        ",
                                    "11": "650      ",
                                    "12": "Jr. Designer",
                                    "13": "60000.00",
                                    "14": "70000.00"
                                },
                                {
                                    "0": "E1008    ",
                                    "1": "Bharath",
                                    "2": "Gupta",
                                    "3": "123413   ",
                                    "4": "1985-05-06",
                                    "5": "M",
                                    "6": "\"145 Berry Ln Naperville IL\"",
                                    "7": "660      ",
                                    "8": "65000.00",
                                    "9": "30003    ",
                                    "10": "7        ",
                                    "11": "660      ",
                                    "12": "Jr. Designer",
                                    "13": "60000.00",
                                    "14": "70000.00"
                                },
                                {
                                    "0": "E1009    ",
                                    "1": "Andrea",
                                    "2": "Jones",
                                    "3": "123414   ",
                                    "4": "1990-07-09",
                                    "5": "F",
                                    "6": "\"120 Fall Creek Gary IL\"",
                                    "7": "234      ",
                                    "8": "70000.00",
                                    "9": "30003    ",
                                    "10": "7        ",
                                    "11": "234      ",
                                    "12": "Sr. Designer",
                                    "13": "70000.00",
                                    "14": "90000.00"
                                },
                                {
                                    "0": "E1010    ",
                                    "1": "Ann",
                                    "2": "Jacob",
                                    "3": "123415   ",
                                    "4": "1982-03-30",
                                    "5": "F",
                                    "6": "\"111 Britany Springs Elgin IL\"",
                                    "7": "220      ",
                                    "8": "70000.00",
                                    "9": "30004    ",
                                    "10": "5        ",
                                    "11": "220      ",
                                    "12": "Sr. Designer",
                                    "13": "70000.00",
                                    "14": "90000.00"
                                }
                            ]
                        },
                        "text/html": "<table><tr><th>EMP_ID</th><th>F_NAME</th><th>L_NAME</th><th>SSN</th><th>B_DATE</th><th>SEX</th><th>ADDRESS</th><th>JOB_ID</th><th>SALARY</th><th>MANAGER_ID</th><th>DEP_ID</th><th>JOB_IDENT</th><th>JOB_TITLE</th><th>MIN_SALARY</th><th>MAX_SALARY</th></tr><tr><td>E1001    </td><td>John</td><td>Thomas</td><td>123456   </td><td>1976-01-09</td><td>M</td><td>&quot;5631 Rice OakPark IL&quot;</td><td>100      </td><td>100000.00</td><td>30001    </td><td>2        </td><td>100      </td><td>Sr. Architect</td><td>60000.00</td><td>100000.00</td></tr><tr><td>E1002    </td><td>Alice</td><td>James</td><td>123457   </td><td>1972-07-31</td><td>F</td><td>&quot;980 Berry ln Elgin IL&quot;</td><td>200      </td><td>80000.00</td><td>30002    </td><td>5        </td><td>200      </td><td>Sr.Software Dev</td><td>60000.00</td><td>80000.00</td></tr><tr><td>E1003    </td><td>Steve</td><td>Wells</td><td>123458   </td><td>1980-08-10</td><td>M</td><td>&quot;291 Springs Gary IL&quot;</td><td>300      </td><td>50000.00</td><td>30002    </td><td>5        </td><td>300      </td><td>Jr.Software Dev</td><td>40000.00</td><td>60000.00</td></tr><tr><td>E1004    </td><td>Santosh</td><td>Kumar</td><td>123459   </td><td>1985-07-20</td><td>M</td><td>&quot;511 Aurora Av Aurora IL&quot;</td><td>400      </td><td>60000.00</td><td>30004    </td><td>5        </td><td>400      </td><td>Jr.Software Dev</td><td>40000.00</td><td>60000.00</td></tr><tr><td>E1005    </td><td>Ahmed</td><td>Hussain</td><td>123410   </td><td>1981-01-04</td><td>M</td><td>&quot;216 Oak Tree Geneva IL&quot;</td><td>500      </td><td>70000.00</td><td>30001    </td><td>2        </td><td>500      </td><td>Jr. Architect</td><td>50000.00</td><td>70000.00</td></tr><tr><td>E1006    </td><td>Nancy</td><td>Allen</td><td>123411   </td><td>1978-02-06</td><td>F</td><td>&quot;111 Green Pl Elgin IL&quot;</td><td>600      </td><td>90000.00</td><td>30001    </td><td>2        </td><td>600      </td><td>Lead Architect</td><td>70000.00</td><td>100000.00</td></tr><tr><td>E1007    </td><td>Mary</td><td>Thomas</td><td>123412   </td><td>1975-05-05</td><td>F</td><td>&quot;100 Rose Pl Gary IL&quot;</td><td>650      </td><td>65000.00</td><td>30003    </td><td>7        </td><td>650      </td><td>Jr. Designer</td><td>60000.00</td><td>70000.00</td></tr><tr><td>E1008    </td><td>Bharath</td><td>Gupta</td><td>123413   </td><td>1985-05-06</td><td>M</td><td>&quot;145 Berry Ln Naperville IL&quot;</td><td>660      </td><td>65000.00</td><td>30003    </td><td>7        </td><td>660      </td><td>Jr. Designer</td><td>60000.00</td><td>70000.00</td></tr><tr><td>E1009    </td><td>Andrea</td><td>Jones</td><td>123414   </td><td>1990-07-09</td><td>F</td><td>&quot;120 Fall Creek Gary IL&quot;</td><td>234      </td><td>70000.00</td><td>30003    </td><td>7        </td><td>234      </td><td>Sr. Designer</td><td>70000.00</td><td>90000.00</td></tr><tr><td>E1010    </td><td>Ann</td><td>Jacob</td><td>123415   </td><td>1982-03-30</td><td>F</td><td>&quot;111 Britany Springs Elgin IL&quot;</td><td>220      </td><td>70000.00</td><td>30004    </td><td>5        </td><td>220      </td><td>Sr. Designer</td><td>70000.00</td><td>90000.00</td></tr></table>"
                    },
                    "metadata": {}
                }
            ],
            "execution_count": 16
        },
        {
            "cell_type": "markdown",
            "source": [
                "3. Problem: Redo the previous query, using shorter aliases for table names."
            ],
            "metadata": {
                "azdata_cell_guid": "95cdabc4-86e7-4e21-a263-13ea1aa42c64"
            }
        },
        {
            "cell_type": "code",
            "source": [
                "SELECT * FROM EMPLOYEES E, JOBS J\r\n",
                "        WHERE E.JOB_ID = J.JOB_IDENT;"
            ],
            "metadata": {
                "azdata_cell_guid": "d87cd3e5-8418-4f61-ac4f-ef4f90054434"
            },
            "outputs": [
                {
                    "output_type": "display_data",
                    "data": {
                        "text/html": "(10 rows affected)"
                    },
                    "metadata": {}
                },
                {
                    "output_type": "display_data",
                    "data": {
                        "text/html": "Total execution time: 00:00:00.011"
                    },
                    "metadata": {}
                },
                {
                    "output_type": "execute_result",
                    "execution_count": 15,
                    "data": {
                        "application/vnd.dataresource+json": {
                            "schema": {
                                "fields": [
                                    {
                                        "name": "EMP_ID"
                                    },
                                    {
                                        "name": "F_NAME"
                                    },
                                    {
                                        "name": "L_NAME"
                                    },
                                    {
                                        "name": "SSN"
                                    },
                                    {
                                        "name": "B_DATE"
                                    },
                                    {
                                        "name": "SEX"
                                    },
                                    {
                                        "name": "ADDRESS"
                                    },
                                    {
                                        "name": "JOB_ID"
                                    },
                                    {
                                        "name": "SALARY"
                                    },
                                    {
                                        "name": "MANAGER_ID"
                                    },
                                    {
                                        "name": "DEP_ID"
                                    },
                                    {
                                        "name": "JOB_IDENT"
                                    },
                                    {
                                        "name": "JOB_TITLE"
                                    },
                                    {
                                        "name": "MIN_SALARY"
                                    },
                                    {
                                        "name": "MAX_SALARY"
                                    }
                                ]
                            },
                            "data": [
                                {
                                    "0": "E1001    ",
                                    "1": "John",
                                    "2": "Thomas",
                                    "3": "123456   ",
                                    "4": "1976-01-09",
                                    "5": "M",
                                    "6": "\"5631 Rice OakPark IL\"",
                                    "7": "100      ",
                                    "8": "100000.00",
                                    "9": "30001    ",
                                    "10": "2        ",
                                    "11": "100      ",
                                    "12": "Sr. Architect",
                                    "13": "60000.00",
                                    "14": "100000.00"
                                },
                                {
                                    "0": "E1002    ",
                                    "1": "Alice",
                                    "2": "James",
                                    "3": "123457   ",
                                    "4": "1972-07-31",
                                    "5": "F",
                                    "6": "\"980 Berry ln Elgin IL\"",
                                    "7": "200      ",
                                    "8": "80000.00",
                                    "9": "30002    ",
                                    "10": "5        ",
                                    "11": "200      ",
                                    "12": "Sr.Software Dev",
                                    "13": "60000.00",
                                    "14": "80000.00"
                                },
                                {
                                    "0": "E1003    ",
                                    "1": "Steve",
                                    "2": "Wells",
                                    "3": "123458   ",
                                    "4": "1980-08-10",
                                    "5": "M",
                                    "6": "\"291 Springs Gary IL\"",
                                    "7": "300      ",
                                    "8": "50000.00",
                                    "9": "30002    ",
                                    "10": "5        ",
                                    "11": "300      ",
                                    "12": "Jr.Software Dev",
                                    "13": "40000.00",
                                    "14": "60000.00"
                                },
                                {
                                    "0": "E1004    ",
                                    "1": "Santosh",
                                    "2": "Kumar",
                                    "3": "123459   ",
                                    "4": "1985-07-20",
                                    "5": "M",
                                    "6": "\"511 Aurora Av Aurora IL\"",
                                    "7": "400      ",
                                    "8": "60000.00",
                                    "9": "30004    ",
                                    "10": "5        ",
                                    "11": "400      ",
                                    "12": "Jr.Software Dev",
                                    "13": "40000.00",
                                    "14": "60000.00"
                                },
                                {
                                    "0": "E1005    ",
                                    "1": "Ahmed",
                                    "2": "Hussain",
                                    "3": "123410   ",
                                    "4": "1981-01-04",
                                    "5": "M",
                                    "6": "\"216 Oak Tree Geneva IL\"",
                                    "7": "500      ",
                                    "8": "70000.00",
                                    "9": "30001    ",
                                    "10": "2        ",
                                    "11": "500      ",
                                    "12": "Jr. Architect",
                                    "13": "50000.00",
                                    "14": "70000.00"
                                },
                                {
                                    "0": "E1006    ",
                                    "1": "Nancy",
                                    "2": "Allen",
                                    "3": "123411   ",
                                    "4": "1978-02-06",
                                    "5": "F",
                                    "6": "\"111 Green Pl Elgin IL\"",
                                    "7": "600      ",
                                    "8": "90000.00",
                                    "9": "30001    ",
                                    "10": "2        ",
                                    "11": "600      ",
                                    "12": "Lead Architect",
                                    "13": "70000.00",
                                    "14": "100000.00"
                                },
                                {
                                    "0": "E1007    ",
                                    "1": "Mary",
                                    "2": "Thomas",
                                    "3": "123412   ",
                                    "4": "1975-05-05",
                                    "5": "F",
                                    "6": "\"100 Rose Pl Gary IL\"",
                                    "7": "650      ",
                                    "8": "65000.00",
                                    "9": "30003    ",
                                    "10": "7        ",
                                    "11": "650      ",
                                    "12": "Jr. Designer",
                                    "13": "60000.00",
                                    "14": "70000.00"
                                },
                                {
                                    "0": "E1008    ",
                                    "1": "Bharath",
                                    "2": "Gupta",
                                    "3": "123413   ",
                                    "4": "1985-05-06",
                                    "5": "M",
                                    "6": "\"145 Berry Ln Naperville IL\"",
                                    "7": "660      ",
                                    "8": "65000.00",
                                    "9": "30003    ",
                                    "10": "7        ",
                                    "11": "660      ",
                                    "12": "Jr. Designer",
                                    "13": "60000.00",
                                    "14": "70000.00"
                                },
                                {
                                    "0": "E1009    ",
                                    "1": "Andrea",
                                    "2": "Jones",
                                    "3": "123414   ",
                                    "4": "1990-07-09",
                                    "5": "F",
                                    "6": "\"120 Fall Creek Gary IL\"",
                                    "7": "234      ",
                                    "8": "70000.00",
                                    "9": "30003    ",
                                    "10": "7        ",
                                    "11": "234      ",
                                    "12": "Sr. Designer",
                                    "13": "70000.00",
                                    "14": "90000.00"
                                },
                                {
                                    "0": "E1010    ",
                                    "1": "Ann",
                                    "2": "Jacob",
                                    "3": "123415   ",
                                    "4": "1982-03-30",
                                    "5": "F",
                                    "6": "\"111 Britany Springs Elgin IL\"",
                                    "7": "220      ",
                                    "8": "70000.00",
                                    "9": "30004    ",
                                    "10": "5        ",
                                    "11": "220      ",
                                    "12": "Sr. Designer",
                                    "13": "70000.00",
                                    "14": "90000.00"
                                }
                            ]
                        },
                        "text/html": "<table><tr><th>EMP_ID</th><th>F_NAME</th><th>L_NAME</th><th>SSN</th><th>B_DATE</th><th>SEX</th><th>ADDRESS</th><th>JOB_ID</th><th>SALARY</th><th>MANAGER_ID</th><th>DEP_ID</th><th>JOB_IDENT</th><th>JOB_TITLE</th><th>MIN_SALARY</th><th>MAX_SALARY</th></tr><tr><td>E1001    </td><td>John</td><td>Thomas</td><td>123456   </td><td>1976-01-09</td><td>M</td><td>&quot;5631 Rice OakPark IL&quot;</td><td>100      </td><td>100000.00</td><td>30001    </td><td>2        </td><td>100      </td><td>Sr. Architect</td><td>60000.00</td><td>100000.00</td></tr><tr><td>E1002    </td><td>Alice</td><td>James</td><td>123457   </td><td>1972-07-31</td><td>F</td><td>&quot;980 Berry ln Elgin IL&quot;</td><td>200      </td><td>80000.00</td><td>30002    </td><td>5        </td><td>200      </td><td>Sr.Software Dev</td><td>60000.00</td><td>80000.00</td></tr><tr><td>E1003    </td><td>Steve</td><td>Wells</td><td>123458   </td><td>1980-08-10</td><td>M</td><td>&quot;291 Springs Gary IL&quot;</td><td>300      </td><td>50000.00</td><td>30002    </td><td>5        </td><td>300      </td><td>Jr.Software Dev</td><td>40000.00</td><td>60000.00</td></tr><tr><td>E1004    </td><td>Santosh</td><td>Kumar</td><td>123459   </td><td>1985-07-20</td><td>M</td><td>&quot;511 Aurora Av Aurora IL&quot;</td><td>400      </td><td>60000.00</td><td>30004    </td><td>5        </td><td>400      </td><td>Jr.Software Dev</td><td>40000.00</td><td>60000.00</td></tr><tr><td>E1005    </td><td>Ahmed</td><td>Hussain</td><td>123410   </td><td>1981-01-04</td><td>M</td><td>&quot;216 Oak Tree Geneva IL&quot;</td><td>500      </td><td>70000.00</td><td>30001    </td><td>2        </td><td>500      </td><td>Jr. Architect</td><td>50000.00</td><td>70000.00</td></tr><tr><td>E1006    </td><td>Nancy</td><td>Allen</td><td>123411   </td><td>1978-02-06</td><td>F</td><td>&quot;111 Green Pl Elgin IL&quot;</td><td>600      </td><td>90000.00</td><td>30001    </td><td>2        </td><td>600      </td><td>Lead Architect</td><td>70000.00</td><td>100000.00</td></tr><tr><td>E1007    </td><td>Mary</td><td>Thomas</td><td>123412   </td><td>1975-05-05</td><td>F</td><td>&quot;100 Rose Pl Gary IL&quot;</td><td>650      </td><td>65000.00</td><td>30003    </td><td>7        </td><td>650      </td><td>Jr. Designer</td><td>60000.00</td><td>70000.00</td></tr><tr><td>E1008    </td><td>Bharath</td><td>Gupta</td><td>123413   </td><td>1985-05-06</td><td>M</td><td>&quot;145 Berry Ln Naperville IL&quot;</td><td>660      </td><td>65000.00</td><td>30003    </td><td>7        </td><td>660      </td><td>Jr. Designer</td><td>60000.00</td><td>70000.00</td></tr><tr><td>E1009    </td><td>Andrea</td><td>Jones</td><td>123414   </td><td>1990-07-09</td><td>F</td><td>&quot;120 Fall Creek Gary IL&quot;</td><td>234      </td><td>70000.00</td><td>30003    </td><td>7        </td><td>234      </td><td>Sr. Designer</td><td>70000.00</td><td>90000.00</td></tr><tr><td>E1010    </td><td>Ann</td><td>Jacob</td><td>123415   </td><td>1982-03-30</td><td>F</td><td>&quot;111 Britany Springs Elgin IL&quot;</td><td>220      </td><td>70000.00</td><td>30004    </td><td>5        </td><td>220      </td><td>Sr. Designer</td><td>70000.00</td><td>90000.00</td></tr></table>"
                    },
                    "metadata": {}
                }
            ],
            "execution_count": 15
        },
        {
            "cell_type": "markdown",
            "source": [
                "4. Problem: Redo the previous query, but retrieve only the Employee ID, Employee Name and Job Title."
            ],
            "metadata": {
                "azdata_cell_guid": "64d2a4a8-fe84-4773-b833-09cc0d4d8dfc"
            }
        },
        {
            "cell_type": "code",
            "source": [
                "SELECT EMP_ID, F_NAME, L_NAME, JOB_TITLE FROM EMPLOYEES E, JOBS J\r\n",
                "        WHERE E.JOB_ID = J.JOB_IDENT;"
            ],
            "metadata": {
                "azdata_cell_guid": "a24d084d-2016-4382-abd4-ccaa1cc2d27e"
            },
            "outputs": [
                {
                    "output_type": "display_data",
                    "data": {
                        "text/html": "(10 rows affected)"
                    },
                    "metadata": {}
                },
                {
                    "output_type": "display_data",
                    "data": {
                        "text/html": "Total execution time: 00:00:00.013"
                    },
                    "metadata": {}
                },
                {
                    "output_type": "execute_result",
                    "execution_count": 17,
                    "data": {
                        "application/vnd.dataresource+json": {
                            "schema": {
                                "fields": [
                                    {
                                        "name": "EMP_ID"
                                    },
                                    {
                                        "name": "F_NAME"
                                    },
                                    {
                                        "name": "L_NAME"
                                    },
                                    {
                                        "name": "JOB_TITLE"
                                    }
                                ]
                            },
                            "data": [
                                {
                                    "0": "E1001    ",
                                    "1": "John",
                                    "2": "Thomas",
                                    "3": "Sr. Architect"
                                },
                                {
                                    "0": "E1002    ",
                                    "1": "Alice",
                                    "2": "James",
                                    "3": "Sr.Software Dev"
                                },
                                {
                                    "0": "E1003    ",
                                    "1": "Steve",
                                    "2": "Wells",
                                    "3": "Jr.Software Dev"
                                },
                                {
                                    "0": "E1004    ",
                                    "1": "Santosh",
                                    "2": "Kumar",
                                    "3": "Jr.Software Dev"
                                },
                                {
                                    "0": "E1005    ",
                                    "1": "Ahmed",
                                    "2": "Hussain",
                                    "3": "Jr. Architect"
                                },
                                {
                                    "0": "E1006    ",
                                    "1": "Nancy",
                                    "2": "Allen",
                                    "3": "Lead Architect"
                                },
                                {
                                    "0": "E1007    ",
                                    "1": "Mary",
                                    "2": "Thomas",
                                    "3": "Jr. Designer"
                                },
                                {
                                    "0": "E1008    ",
                                    "1": "Bharath",
                                    "2": "Gupta",
                                    "3": "Jr. Designer"
                                },
                                {
                                    "0": "E1009    ",
                                    "1": "Andrea",
                                    "2": "Jones",
                                    "3": "Sr. Designer"
                                },
                                {
                                    "0": "E1010    ",
                                    "1": "Ann",
                                    "2": "Jacob",
                                    "3": "Sr. Designer"
                                }
                            ]
                        },
                        "text/html": "<table><tr><th>EMP_ID</th><th>F_NAME</th><th>L_NAME</th><th>JOB_TITLE</th></tr><tr><td>E1001    </td><td>John</td><td>Thomas</td><td>Sr. Architect</td></tr><tr><td>E1002    </td><td>Alice</td><td>James</td><td>Sr.Software Dev</td></tr><tr><td>E1003    </td><td>Steve</td><td>Wells</td><td>Jr.Software Dev</td></tr><tr><td>E1004    </td><td>Santosh</td><td>Kumar</td><td>Jr.Software Dev</td></tr><tr><td>E1005    </td><td>Ahmed</td><td>Hussain</td><td>Jr. Architect</td></tr><tr><td>E1006    </td><td>Nancy</td><td>Allen</td><td>Lead Architect</td></tr><tr><td>E1007    </td><td>Mary</td><td>Thomas</td><td>Jr. Designer</td></tr><tr><td>E1008    </td><td>Bharath</td><td>Gupta</td><td>Jr. Designer</td></tr><tr><td>E1009    </td><td>Andrea</td><td>Jones</td><td>Sr. Designer</td></tr><tr><td>E1010    </td><td>Ann</td><td>Jacob</td><td>Sr. Designer</td></tr></table>"
                    },
                    "metadata": {}
                }
            ],
            "execution_count": 17
        },
        {
            "cell_type": "markdown",
            "source": [
                "5. Problem: Redo the previous query, but specify the fully qualified column names with aliases in the SELECT clause."
            ],
            "metadata": {
                "azdata_cell_guid": "4ac10614-eaa3-46be-b6f7-7797d29f92e6"
            }
        },
        {
            "cell_type": "code",
            "source": [
                "SELECT E.EMP_ID , E.F_NAME, E.L_NAME, J.JOB_TITLE FROM EMPLOYEES E, JOBS J\r\n",
                "        WHERE E.JOB_ID = J.JOB_IDENT;"
            ],
            "metadata": {
                "azdata_cell_guid": "484182a0-a774-4f14-88f0-71fceaefa96a"
            },
            "outputs": [
                {
                    "output_type": "display_data",
                    "data": {
                        "text/html": "(10 rows affected)"
                    },
                    "metadata": {}
                },
                {
                    "output_type": "display_data",
                    "data": {
                        "text/html": "Total execution time: 00:00:00.008"
                    },
                    "metadata": {}
                },
                {
                    "output_type": "execute_result",
                    "execution_count": 18,
                    "data": {
                        "application/vnd.dataresource+json": {
                            "schema": {
                                "fields": [
                                    {
                                        "name": "EMP_ID"
                                    },
                                    {
                                        "name": "F_NAME"
                                    },
                                    {
                                        "name": "L_NAME"
                                    },
                                    {
                                        "name": "JOB_TITLE"
                                    }
                                ]
                            },
                            "data": [
                                {
                                    "0": "E1001    ",
                                    "1": "John",
                                    "2": "Thomas",
                                    "3": "Sr. Architect"
                                },
                                {
                                    "0": "E1002    ",
                                    "1": "Alice",
                                    "2": "James",
                                    "3": "Sr.Software Dev"
                                },
                                {
                                    "0": "E1003    ",
                                    "1": "Steve",
                                    "2": "Wells",
                                    "3": "Jr.Software Dev"
                                },
                                {
                                    "0": "E1004    ",
                                    "1": "Santosh",
                                    "2": "Kumar",
                                    "3": "Jr.Software Dev"
                                },
                                {
                                    "0": "E1005    ",
                                    "1": "Ahmed",
                                    "2": "Hussain",
                                    "3": "Jr. Architect"
                                },
                                {
                                    "0": "E1006    ",
                                    "1": "Nancy",
                                    "2": "Allen",
                                    "3": "Lead Architect"
                                },
                                {
                                    "0": "E1007    ",
                                    "1": "Mary",
                                    "2": "Thomas",
                                    "3": "Jr. Designer"
                                },
                                {
                                    "0": "E1008    ",
                                    "1": "Bharath",
                                    "2": "Gupta",
                                    "3": "Jr. Designer"
                                },
                                {
                                    "0": "E1009    ",
                                    "1": "Andrea",
                                    "2": "Jones",
                                    "3": "Sr. Designer"
                                },
                                {
                                    "0": "E1010    ",
                                    "1": "Ann",
                                    "2": "Jacob",
                                    "3": "Sr. Designer"
                                }
                            ]
                        },
                        "text/html": "<table><tr><th>EMP_ID</th><th>F_NAME</th><th>L_NAME</th><th>JOB_TITLE</th></tr><tr><td>E1001    </td><td>John</td><td>Thomas</td><td>Sr. Architect</td></tr><tr><td>E1002    </td><td>Alice</td><td>James</td><td>Sr.Software Dev</td></tr><tr><td>E1003    </td><td>Steve</td><td>Wells</td><td>Jr.Software Dev</td></tr><tr><td>E1004    </td><td>Santosh</td><td>Kumar</td><td>Jr.Software Dev</td></tr><tr><td>E1005    </td><td>Ahmed</td><td>Hussain</td><td>Jr. Architect</td></tr><tr><td>E1006    </td><td>Nancy</td><td>Allen</td><td>Lead Architect</td></tr><tr><td>E1007    </td><td>Mary</td><td>Thomas</td><td>Jr. Designer</td></tr><tr><td>E1008    </td><td>Bharath</td><td>Gupta</td><td>Jr. Designer</td></tr><tr><td>E1009    </td><td>Andrea</td><td>Jones</td><td>Sr. Designer</td></tr><tr><td>E1010    </td><td>Ann</td><td>Jacob</td><td>Sr. Designer</td></tr></table>"
                    },
                    "metadata": {}
                }
            ],
            "execution_count": 18
        }
    ]
}